{
 "cells": [
  {
   "cell_type": "code",
   "execution_count": 13,
   "metadata": {
    "executionInfo": {
     "elapsed": 643,
     "status": "ok",
     "timestamp": 1640772728417,
     "user": {
      "displayName": "SHYAM MARJIT",
      "photoUrl": "https://lh3.googleusercontent.com/a-/AOh14GjgXWgt6yPRlb1Vc2PDp-7CmKEzAlS0XLO2cxEV=s64",
      "userId": "10874093040693940713"
     },
     "user_tz": -330
    },
    "id": "CYrTggoIbl42"
   },
   "outputs": [],
   "source": [
    "# Importing python Library\n",
    "import os, time, pickle, warnings, itertools, copy, sys, shutil\n",
    "from mne.filter import filter_data as bandpass_filter\n",
    "import pandas as pd\n",
    "import numpy as np\n",
    "import seaborn as sns\n",
    "from scipy import signal\n",
    "from scipy.signal import welch, butter, lfilter, sosfilt, sosfreqz, freqz\n",
    "from scipy.integrate import simps\n",
    "from scipy.stats import f_oneway\n",
    "from tqdm import tqdm\n",
    "from sklearn.decomposition import FastICA\n",
    "warnings.filterwarnings('ignore')"
   ]
  },
  {
   "cell_type": "code",
   "execution_count": 14,
   "metadata": {
    "executionInfo": {
     "elapsed": 3,
     "status": "ok",
     "timestamp": 1640772729210,
     "user": {
      "displayName": "SHYAM MARJIT",
      "photoUrl": "https://lh3.googleusercontent.com/a-/AOh14GjgXWgt6yPRlb1Vc2PDp-7CmKEzAlS0XLO2cxEV=s64",
      "userId": "10874093040693940713"
     },
     "user_tz": -330
    },
    "id": "udO6VWBziiQW"
   },
   "outputs": [],
   "source": [
    "def eye_movement_artifact(input_data):\n",
    "    # NOTE: input parameter must be an 2D array like 32_channels*7860_data\n",
    "    input_data = input_data.transpose() # Inverse the given 2D array\n",
    "    ica = FastICA()\n",
    "    comps = ica.fit_transform(input_data)\n",
    "    return comps.transpose() # invert the array \n",
    "\n",
    "def signal_pro(input_data):\n",
    "    mean_value = 0\n",
    "    # do the bandpass filter\n",
    "    for i in range(40):\n",
    "        for j in range(32):\n",
    "            input_data[i][j] = bandpass_filter(input_data[i][j], sfreq = 128, l_freq = 4, h_freq = 48, verbose = False)\n",
    "    # creating dummy variable which contains same data information \n",
    "    preprocessed_data, error_eye = input_data.copy(), input_data.copy()\n",
    "    for i in range(40):\n",
    "        error_eye[i] = eye_movement_artifact(error_eye[i]) # remove the eye movements\n",
    "    for i in range(40):\n",
    "        for j in range(32):\n",
    "            mean_value = np.mean(error_eye[i][j])\n",
    "            for k in range(7680):\n",
    "                if(input_data[i][j][k] > 0.0): # data is positive\n",
    "                    preprocessed_data[i][j][k] = input_data[i][j][k] - abs(mean_value)\n",
    "                else: # data is negative\n",
    "                    preprocessed_data[i][j][k] = input_data[i][j][k] + abs(mean_value)\n",
    "    return preprocessed_data"
   ]
  },
  {
   "cell_type": "code",
   "execution_count": 15,
   "metadata": {
    "executionInfo": {
     "elapsed": 635,
     "status": "ok",
     "timestamp": 1640772733019,
     "user": {
      "displayName": "SHYAM MARJIT",
      "photoUrl": "https://lh3.googleusercontent.com/a-/AOh14GjgXWgt6yPRlb1Vc2PDp-7CmKEzAlS0XLO2cxEV=s64",
      "userId": "10874093040693940713"
     },
     "user_tz": -330
    },
    "id": "z1ZQs2q3Hnno"
   },
   "outputs": [],
   "source": [
    "def bandpower(input_data, band):\n",
    "    sf = 128 # sampling frequency 128 Hz\n",
    "    band = np.asarray(band)\n",
    "    low, high = band # band is the tuple of (low, high)\n",
    "    nperseg = (2 / low) * sf\n",
    "    # Compute the modified periodogram (Welch)\n",
    "    freqs, psd = welch(input_data, sf, nperseg = nperseg)\n",
    "    # Find closest indices of band in frequency vector\n",
    "    idx_band = np.logical_and(freqs >= low, freqs <= high)\n",
    "    return np.mean(psd[idx_band]) #mean of the frequency bands"
   ]
  },
  {
   "cell_type": "code",
   "execution_count": 16,
   "metadata": {
    "executionInfo": {
     "elapsed": 411,
     "status": "ok",
     "timestamp": 1640772736277,
     "user": {
      "displayName": "SHYAM MARJIT",
      "photoUrl": "https://lh3.googleusercontent.com/a-/AOh14GjgXWgt6yPRlb1Vc2PDp-7CmKEzAlS0XLO2cxEV=s64",
      "userId": "10874093040693940713"
     },
     "user_tz": -330
    },
    "id": "CN81MihX5ZbU"
   },
   "outputs": [],
   "source": [
    "theta_band_range = (4, 8)   # drownsiness, emotional connection, intuition, creativity\n",
    "alpha_band_range = (8, 12)  # reflection, relaxation\n",
    "beta_band_range = (12, 30)  # concentration, problem solving, memory\n",
    "gamma_band_range = (30, 48) # cognition, perception, learning, multi-tasking"
   ]
  },
  {
   "cell_type": "code",
   "execution_count": 17,
   "metadata": {
    "executionInfo": {
     "elapsed": 534,
     "status": "ok",
     "timestamp": 1640773030489,
     "user": {
      "displayName": "SHYAM MARJIT",
      "photoUrl": "https://lh3.googleusercontent.com/a-/AOh14GjgXWgt6yPRlb1Vc2PDp-7CmKEzAlS0XLO2cxEV=s64",
      "userId": "10874093040693940713"
     },
     "user_tz": -330
    },
    "id": "I4DEPV9z4a4q"
   },
   "outputs": [],
   "source": [
    "def get_csv_file(subject, filter_data, labels):\n",
    "    eeg_theta, eeg_alpha, eeg_beta, eeg_gamma = [], [], [], []\n",
    "    channels_theta, channels_alpha, channels_beta, channels_gamma = [], [], [], []\n",
    "    for video_no in range (len(filter_data)):\n",
    "        for channel_no in range (len(filter_data[0])):\n",
    "            eeg_theta.append(bandpower(filter_data[video_no, channel_no].copy(), theta_band_range))\n",
    "            eeg_alpha.append(bandpower(filter_data[video_no, channel_no].copy(), alpha_band_range))\n",
    "            eeg_beta.append(bandpower(filter_data[video_no, channel_no].copy(), beta_band_range))\n",
    "            eeg_gamma.append(bandpower(filter_data[video_no, channel_no].copy(), gamma_band_range))\n",
    "    eeg_theta = np.reshape(eeg_theta, (40, 32)) # 40 videos and 32 channels theta band power\n",
    "    eeg_alpha = np.reshape(eeg_alpha, (40, 32))\n",
    "    eeg_beta = np.reshape(eeg_beta, (40, 32))\n",
    "    eeg_gamma = np.reshape(eeg_gamma, (40, 32))\n",
    "    \n",
    "    for i in range(0, len(eeg_channels)):\n",
    "        channels_theta.append(eeg_channels[i] + '_theta')\n",
    "        channels_alpha.append(eeg_channels[i] + '_alpha')\n",
    "        channels_gamma.append(eeg_channels[i] + '_gamma')\n",
    "        channels_beta.append(eeg_channels[i] + '_beta')\n",
    "        \n",
    "    df_theta = pd.DataFrame(eeg_theta, columns = channels_theta)\n",
    "    df_alpha = pd.DataFrame(eeg_alpha, columns = channels_alpha)\n",
    "    df_beta = pd.DataFrame(eeg_beta, columns = channels_beta)\n",
    "    df_gamma = pd.DataFrame(eeg_gamma, columns = channels_gamma)\n",
    "    \n",
    "    # make a directory to save the csv file\n",
    "    new_path = newpath + subject\n",
    "    try:\n",
    "        os.mkdir(new_path)\n",
    "        os.mkdir(new_path + '/rawfiles')\n",
    "    except:\n",
    "        # If directory exists then delete that directory\n",
    "        shutil.rmtree(new_path)\n",
    "        # then make the new directory\n",
    "        os.mkdir(new_path)\n",
    "        os.mkdir(new_path + '/rawfiles')\n",
    "    df_theta.to_csv(new_path + '/rawfiles/' + subject + '_theta.csv', index = False, encoding = 'utf-8-sig')\n",
    "    df_alpha.to_csv(new_path + '/rawfiles/' + subject + '_alpha.csv', index = False, encoding = 'utf-8-sig')\n",
    "    df_beta.to_csv(new_path + '/rawfiles/' + subject  + '_beta.csv', index = False, encoding = 'utf-8-sig')\n",
    "    df_gamma.to_csv(new_path + '/rawfiles/' + subject + '_gamma.csv', index = False, encoding = 'utf-8-sig')\n",
    "    #===========================   ALL Bands   ==================================\n",
    "    frames = [df_theta, df_alpha, df_beta, df_gamma]\n",
    "    all_bands = pd.concat(frames, axis = 1) # join these 4 data frame columns wise, row is fixed\n",
    "    all_bands.to_csv(new_path + '/rawfiles/' + subject + '.csv', index = False, encoding = 'utf-8-sig')\n",
    "    all_bands_valence, all_bands_arousal, all_bands_all = all_bands.copy(), all_bands.copy(), all_bands.copy()\n",
    "    all_bands_valence['valence'] = emotion_label(labels, 'valence')\n",
    "    all_bands_arousal['arousal'] = emotion_label(labels, 'arousal')\n",
    "    all_bands_all['all'] = emotion_label(labels, 'all')\n",
    "    all_bands_valence.to_csv(new_path + '/' + subject + '_valence.csv', index = False, encoding = 'utf-8-sig')\n",
    "    all_bands_arousal.to_csv(new_path + '/' + subject + '_arousal.csv', index = False, encoding = 'utf-8-sig')\n",
    "    all_bands_all.to_csv(new_path + '/' + subject + '_all.csv', index = False, encoding = 'utf-8-sig')"
   ]
  },
  {
   "cell_type": "code",
   "execution_count": 18,
   "metadata": {
    "executionInfo": {
     "elapsed": 8,
     "status": "ok",
     "timestamp": 1640773030876,
     "user": {
      "displayName": "SHYAM MARJIT",
      "photoUrl": "https://lh3.googleusercontent.com/a-/AOh14GjgXWgt6yPRlb1Vc2PDp-7CmKEzAlS0XLO2cxEV=s64",
      "userId": "10874093040693940713"
     },
     "user_tz": -330
    },
    "id": "lZehUFjMT-UP"
   },
   "outputs": [],
   "source": [
    "subject_names = ['s01', 's02', 's03', 's04', 's05', 's06', 's07', 's08', 's09', 's10', 's11', 's12', \n",
    "                 's13', 's14', 's15', 's16', 's17', 's18', 's19', 's20', 's21',\n",
    "                 's22', 's23', 's24', 's25', 's26', 's27', 's28', 's29', 's30', 's31', 's32']\n",
    "eeg_channels = np.array(['Fp1', 'AF3', 'F3', 'F7', 'FC5', 'FC1', 'C3', 'T7', 'CP5', 'CP1', 'P3', \n",
    "                         'P7', 'PO3', 'O1', 'Oz', 'Pz', 'Fp2', 'AF4', 'Fz', 'F4', 'F8', 'FC6', \n",
    "                         'FC2', 'Cz', 'C4', 'T8', 'CP6', 'CP2', 'P4', 'P8', 'PO4', 'O2'])\n",
    "# put the path in which deap dataset files are present\n",
    "deap_dataset_path = '/Users/shyammarjit/Desktop/Brain Computer Interface/Deap Dataset/'\n",
    "# put the path in which you want to save the csv file\n",
    "save_csv_path = '/Users/shyammarjit/Desktop/Brain Computer Interface/Hybrid Sequential Forward channel selection (HSFCS)/Subject Dependent'"
   ]
  },
  {
   "cell_type": "code",
   "execution_count": 19,
   "metadata": {},
   "outputs": [],
   "source": [
    "def emotion_label(labels, class_label):\n",
    "    \"\"\"\n",
    "    This function gives the valence/arousal and HVHA/HVLA/LAHV/LALV class labels\n",
    "    \"\"\"\n",
    "    em_labels = []\n",
    "    if(class_label == 'valence'):\n",
    "        for i in range(0, labels.shape[0]):\n",
    "            if (labels[i][0]>5): # high valence\n",
    "                em_labels.append(1)\n",
    "            else: # low valence\n",
    "                em_labels.append(0)\n",
    "        return em_labels\n",
    "    elif(class_label == 'arousal'):\n",
    "        for i in range(0, labels.shape[0]):\n",
    "            if (labels[i][1]>5): # high arousal\n",
    "                em_labels.append(1)\n",
    "            else: # low arousal\n",
    "                em_labels.append(0)\n",
    "        return em_labels\n",
    "    elif(class_label == 'all'):\n",
    "        for i in range(0, labels.shape[0]):\n",
    "            if (labels[i][0]>5): # high valence\n",
    "                if(labels[i][1]>5): # high arousal\n",
    "                    em_labels.append(1) # HVHA\n",
    "                else:\n",
    "                    em_labels.append(0) # HVLA\n",
    "            else: # low valence\n",
    "                if(labels[i][1]>5): # high arousal\n",
    "                    em_labels.append(2) # LVHA\n",
    "                else: # low arousal\n",
    "                    em_labels.append(3) # LVLA\n",
    "        return em_labels"
   ]
  },
  {
   "cell_type": "code",
   "execution_count": 20,
   "metadata": {
    "colab": {
     "base_uri": "https://localhost:8080/"
    },
    "executionInfo": {
     "elapsed": 6827801,
     "status": "ok",
     "timestamp": 1640779861300,
     "user": {
      "displayName": "SHYAM MARJIT",
      "photoUrl": "https://lh3.googleusercontent.com/a-/AOh14GjgXWgt6yPRlb1Vc2PDp-7CmKEzAlS0XLO2cxEV=s64",
      "userId": "10874093040693940713"
     },
     "user_tz": -330
    },
    "id": "00R0E0kBcd0w",
    "outputId": "91a72661-ca79-422c-df4e-034cebd22213"
   },
   "outputs": [
    {
     "name": "stdout",
     "output_type": "stream",
     "text": [
      "Done:  s01\n",
      "Done:  s02\n",
      "Done:  s03\n",
      "Done:  s04\n",
      "Done:  s05\n",
      "Done:  s06\n",
      "Done:  s07\n",
      "Done:  s08\n",
      "Done:  s09\n",
      "Done:  s10\n",
      "Done:  s11\n",
      "Done:  s12\n",
      "Done:  s13\n",
      "Done:  s14\n",
      "Done:  s15\n",
      "Done:  s16\n",
      "Done:  s17\n",
      "Done:  s18\n",
      "Done:  s19\n",
      "Done:  s20\n",
      "Done:  s21\n",
      "Done:  s22\n",
      "Done:  s23\n",
      "Done:  s24\n",
      "Done:  s25\n",
      "Done:  s26\n",
      "Done:  s27\n",
      "Done:  s28\n",
      "Done:  s29\n",
      "Done:  s30\n",
      "Done:  s31\n",
      "Done:  s32\n"
     ]
    }
   ],
   "source": [
    "for subject in subject_names[0:32]:\n",
    "    newpath = save_csv_path + '/datafiles/'\n",
    "    try:\n",
    "        # If the directory already exists then don't make any new dirctory\n",
    "        os.mkdir(newpath)\n",
    "    except:\n",
    "        pass\n",
    "    # load the dataset\n",
    "    with open(deap_dataset_path + subject + '.dat', 'rb') as f:\n",
    "        raw_data = pickle.load(f, encoding = 'latin1')\n",
    "    # raw_data has two key 'data' and 'labels'\n",
    "    data = raw_data['data']\n",
    "    labels = raw_data['labels']\n",
    "    # we are excluding 3s pre base line i.e. first 3*128 = 384 data points from time series data\n",
    "    reduced_eeg_data  = data[0:40, 0:32, 384:8064]\n",
    "    filter_data = signal_pro(reduced_eeg_data.copy())\n",
    "    get_csv_file(subject, filter_data, labels)\n",
    "    print('Done: ', subject)"
   ]
  },
  {
   "cell_type": "code",
   "execution_count": null,
   "metadata": {},
   "outputs": [],
   "source": []
  }
 ],
 "metadata": {
  "colab": {
   "collapsed_sections": [],
   "name": "Step:1-- Subject Independent Channel Selection (CSV File creation) without details",
   "provenance": [
    {
     "file_id": "1CjDHYcPa2wfYjdtlnzd_sU2166e7yk9t",
     "timestamp": 1640771607811
    },
    {
     "file_id": "1Oq_KNSUgTdGEgY3QlUewpCOjzUxlBQQI",
     "timestamp": 1638476734009
    },
    {
     "file_id": "1_aNd9W_ox0bPqI3ULdUB0VDEOOAvN__A",
     "timestamp": 1637694566869
    }
   ]
  },
  "kernelspec": {
   "display_name": "Python 3",
   "language": "python",
   "name": "python3"
  },
  "language_info": {
   "codemirror_mode": {
    "name": "ipython",
    "version": 3
   },
   "file_extension": ".py",
   "mimetype": "text/x-python",
   "name": "python",
   "nbconvert_exporter": "python",
   "pygments_lexer": "ipython3",
   "version": "3.8.8"
  }
 },
 "nbformat": 4,
 "nbformat_minor": 1
}
