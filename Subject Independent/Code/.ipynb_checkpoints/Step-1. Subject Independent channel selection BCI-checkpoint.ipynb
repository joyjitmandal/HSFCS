{
 "cells": [
  {
   "cell_type": "code",
   "execution_count": 1,
   "metadata": {
    "id": "q5UDY40xrsZF"
   },
   "outputs": [],
   "source": [
    "import pickle, copy, warnings, os\n",
    "import pandas as pd\n",
    "import numpy as np\n",
    "import matplotlib.pyplot as plt\n",
    "import seaborn as sns\n",
    "from sklearn import svm\n",
    "from itertools import chain\n",
    "from sklearn.preprocessing import MinMaxScaler\n",
    "from sklearn.metrics import accuracy_score\n",
    "from sklearn.model_selection import KFold\n",
    "warnings.filterwarnings('ignore')\n",
    "from skfeature.utility.construct_W import construct_W\n",
    "from scipy.sparse import diags"
   ]
  },
  {
   "cell_type": "markdown",
   "metadata": {
    "id": "GRNBx2BUXids"
   },
   "source": [
    "**Merge all subject band wise data**"
   ]
  },
  {
   "cell_type": "code",
   "execution_count": 12,
   "metadata": {
    "executionInfo": {
     "elapsed": 2,
     "status": "ok",
     "timestamp": 1644322795099,
     "user": {
      "displayName": "SHYAM MARJIT",
      "photoUrl": "https://lh3.googleusercontent.com/a-/AOh14GjgXWgt6yPRlb1Vc2PDp-7CmKEzAlS0XLO2cxEV=s64",
      "userId": "10874093040693940713"
     },
     "user_tz": -330
    },
    "id": "D0zRBOX0aKJo"
   },
   "outputs": [],
   "source": [
    "subject_names = ['s01', 's02', 's03', 's04', 's05', 's06', 's07', 's08', 's09', 's10', 's11', 's12', \n",
    "                 's13', 's14', 's15', 's16', 's17', 's18', 's19', 's20', 's21',\n",
    "                 's22', 's23', 's24', 's25', 's26', 's27', 's28', 's29', 's30', 's31', 's32']\n",
    "eeg_channels = np.array(['Fp1', 'AF3', 'F3', 'F7', 'FC5', 'FC1', 'C3', 'T7', 'CP5', 'CP1', 'P3', \n",
    "                         'P7', 'PO3', 'O1', 'Oz', 'Pz', 'Fp2', 'AF4', 'Fz', 'F4', 'F8', 'FC6', \n",
    "                         'FC2', 'Cz', 'C4', 'T8', 'CP6', 'CP2', 'P4', 'P8', 'PO4', 'O2'])\n",
    "class_labels = ['valence', 'arousal', 'all']\n",
    "# deap dataset path\n",
    "deap_dataset_path = '/Users/shyammarjit/Desktop/Brain Computer Interface/Deap Dataset/'\n",
    "# put the path location of datfiles folder s.t. subject wise folder should contain datafiles\n",
    "#datafiles_path = '/Users/shyammarjit/Desktop/Brain Computer Interface/Hybrid Sequential Forward channel selection (HSFCS)/Subject Dependent/band_48_fir_None_one/'\n",
    "# testing\n",
    "datafiles_path = '/Users/shyammarjit/Desktop/Brain Computer Interface/Hybrid Sequential Forward channel selection (HSFCS)/Subject Dependent/band_48_fir_None_two/'"
   ]
  },
  {
   "cell_type": "code",
   "execution_count": 13,
   "metadata": {
    "executionInfo": {
     "elapsed": 7,
     "status": "ok",
     "timestamp": 1644322795689,
     "user": {
      "displayName": "SHYAM MARJIT",
      "photoUrl": "https://lh3.googleusercontent.com/a-/AOh14GjgXWgt6yPRlb1Vc2PDp-7CmKEzAlS0XLO2cxEV=s64",
      "userId": "10874093040693940713"
     },
     "user_tz": -330
    },
    "id": "i6L2IXKlX6Gu"
   },
   "outputs": [],
   "source": [
    "# mergeing all band csv files\n",
    "def get_band_data(band_name):\n",
    "    band_paths = []\n",
    "    for subject_name in subject_names:\n",
    "        common_path = '/Users/shyammarjit/Desktop/Brain Computer Interface/Hybrid Sequential Forward channel selection (HSFCS)/Subject Dependent/band_48_fir_None_two/'\n",
    "        if(band_name == ''):\n",
    "            band_path =  common_path + subject_name + '/rawfiles/' + subject_name + '.csv'\n",
    "        else:\n",
    "            band_path =  common_path + subject_name + '/rawfiles/' + subject_name + '_' + band_name + '.csv'\n",
    "        band_paths.append(band_path)\n",
    "    band_df = pd.concat(map(pd.read_csv, band_paths), ignore_index = True)\n",
    "    return band_df"
   ]
  },
  {
   "cell_type": "code",
   "execution_count": 14,
   "metadata": {
    "colab": {
     "base_uri": "https://localhost:8080/"
    },
    "executionInfo": {
     "elapsed": 35218,
     "status": "ok",
     "timestamp": 1644322830903,
     "user": {
      "displayName": "SHYAM MARJIT",
      "photoUrl": "https://lh3.googleusercontent.com/a-/AOh14GjgXWgt6yPRlb1Vc2PDp-7CmKEzAlS0XLO2cxEV=s64",
      "userId": "10874093040693940713"
     },
     "user_tz": -330
    },
    "id": "rEdYCO3M8_I0",
    "outputId": "17fd7943-9387-4073-b5d8-d1bda656a609"
   },
   "outputs": [],
   "source": [
    "data_theta = get_band_data('theta')\n",
    "data_alpha = get_band_data('alpha')\n",
    "data_beta = get_band_data('beta')\n",
    "data_gamma = get_band_data('gamma')\n",
    "all_band = get_band_data('')"
   ]
  },
  {
   "cell_type": "markdown",
   "metadata": {
    "id": "snQ3RpdxvNEU"
   },
   "source": [
    "**Get the label data for all users**"
   ]
  },
  {
   "cell_type": "code",
   "execution_count": 15,
   "metadata": {
    "executionInfo": {
     "elapsed": 14,
     "status": "ok",
     "timestamp": 1644322830906,
     "user": {
      "displayName": "SHYAM MARJIT",
      "photoUrl": "https://lh3.googleusercontent.com/a-/AOh14GjgXWgt6yPRlb1Vc2PDp-7CmKEzAlS0XLO2cxEV=s64",
      "userId": "10874093040693940713"
     },
     "user_tz": -330
    },
    "id": "hk-UbTNtvRO-"
   },
   "outputs": [],
   "source": [
    "# deap dataset path\n",
    "deap_dataset_path = '/Users/shyammarjit/Desktop/Brain Computer Interface/Deap Dataset/'\n",
    "\n",
    "def emotion_label(labels, class_label):\n",
    "    em_labels = []\n",
    "    if(class_label == 'valence'):\n",
    "        for i in range(0, labels.shape[0]):\n",
    "            if (labels[i][0]>5): # high valence\n",
    "                em_labels.append(1)\n",
    "            else: # low valence\n",
    "                em_labels.append(0)\n",
    "        return em_labels\n",
    "    elif(class_label == 'arousal'):\n",
    "        for i in range(0, labels.shape[0]):\n",
    "            if (labels[i][1]>5): # high arousal\n",
    "                em_labels.append(1)\n",
    "            else: # low arousal\n",
    "                em_labels.append(0)\n",
    "        return em_labels\n",
    "    elif(class_label == 'all'):\n",
    "        for i in range(0, labels.shape[0]):\n",
    "            if (labels[i][0]>5): # high valence\n",
    "                if(labels[i][1]>5): # high arousal\n",
    "                    em_labels.append(1) # HVHA\n",
    "                else:\n",
    "                    em_labels.append(0) # HVLA\n",
    "            else: # low valence\n",
    "                if(labels[i][1]>5): # high arousal\n",
    "                    em_labels.append(2) # LVHA\n",
    "                else: # low arousal\n",
    "                    em_labels.append(3) # LVLA\n",
    "        return em_labels\n",
    "\n",
    "def get_label_data(label_name):\n",
    "    label_data, label_2d = [], []\n",
    "    for subject in subject_names:\n",
    "        with open(deap_dataset_path + subject + '.dat', 'rb') as f:\n",
    "            raw_data = pickle.load(f, encoding = 'latin1')\n",
    "        labels = raw_data['labels']\n",
    "        label_2d.append(emotion_label(labels, label_name))\n",
    "    label_data = list(chain.from_iterable(label_2d))\n",
    "    label_data = pd.DataFrame(np.array([label_data]).T, index = None)\n",
    "    return label_data"
   ]
  },
  {
   "cell_type": "code",
   "execution_count": 16,
   "metadata": {
    "executionInfo": {
     "elapsed": 45464,
     "status": "ok",
     "timestamp": 1644322876358,
     "user": {
      "displayName": "SHYAM MARJIT",
      "photoUrl": "https://lh3.googleusercontent.com/a-/AOh14GjgXWgt6yPRlb1Vc2PDp-7CmKEzAlS0XLO2cxEV=s64",
      "userId": "10874093040693940713"
     },
     "user_tz": -330
    },
    "id": "qlOCpNw1yL1J"
   },
   "outputs": [],
   "source": [
    "valence_data = get_label_data('valence')\n",
    "arousal_data = get_label_data('arousal')\n",
    "all_data = get_label_data('all')\n",
    "valence_data, arousal_data, all_data = np.array(valence_data), np.array(arousal_data), np.array(all_data)\n",
    "valence_data, arousal_data, all_data = valence_data.flatten(), arousal_data.flatten(), all_data.flatten()"
   ]
  },
  {
   "cell_type": "markdown",
   "metadata": {
    "id": "_3jkQEH0jZW6"
   },
   "source": [
    "# Fisher Score"
   ]
  },
  {
   "cell_type": "code",
   "execution_count": 17,
   "metadata": {
    "id": "kxJTyBtEeqHy"
   },
   "outputs": [],
   "source": [
    "def fisher_score(X, y):\n",
    "    \"\"\"\n",
    "    This function implements the fisher score feature selection, steps are as follows:\n",
    "    1. Construct the affinity matrix W in fisher score way\n",
    "    2. For the r-th feature, we define fr = X(:,r), D = diag(W*ones), ones = [1,...,1]', L = D - W\n",
    "    3. Let fr_hat = fr - (fr'*D*ones)*ones/(ones'*D*ones)\n",
    "    4. Fisher score for the r-th feature is score = (fr_hat'*D*fr_hat)/(fr_hat'*L*fr_hat)-1\n",
    "    Input\n",
    "    -----\n",
    "    X: {numpy array}, shape (n_samples, n_features)\n",
    "        input data\n",
    "    y: {numpy array}, shape (n_samples,)\n",
    "        input class labels\n",
    "    Output\n",
    "    ------\n",
    "    score: {numpy array}, shape (n_features,)\n",
    "        fisher score for each feature\n",
    "    Reference\n",
    "    ---------\n",
    "    He, Xiaofei et al. \"Laplacian Score for Feature Selection.\" NIPS 2005.\n",
    "    Duda, Richard et al. \"Pattern classification.\" John Wiley & Sons, 2012.\n",
    "    \"\"\"\n",
    "    # Construct weight matrix W in a fisherScore way\n",
    "    kwargs = {\"neighbor_mode\": \"supervised\", \"fisher_score\": True, 'y': y}\n",
    "    W = construct_W(X, **kwargs)\n",
    "\n",
    "    # build the diagonal D matrix from affinity matrix W\n",
    "    D = np.array(W.sum(axis=1))\n",
    "    L = W\n",
    "    tmp = np.dot(np.transpose(D), X)\n",
    "    D = diags(np.transpose(D), [0])\n",
    "    Xt = np.transpose(X)\n",
    "    t1 = np.transpose(np.dot(Xt, D.todense()))\n",
    "    t2 = np.transpose(np.dot(Xt, L.todense()))\n",
    "    # compute the numerator of Lr\n",
    "    D_prime = np.sum(np.multiply(t1, X), 0) - np.multiply(tmp, tmp)/D.sum()\n",
    "    # compute the denominator of Lr\n",
    "    L_prime = np.sum(np.multiply(t2, X), 0) - np.multiply(tmp, tmp)/D.sum()\n",
    "    # avoid the denominator of Lr to be 0\n",
    "    D_prime[D_prime < 1e-12] = 10000\n",
    "    lap_score = 1 - np.array(np.multiply(L_prime, 1/D_prime))[0, :]\n",
    "\n",
    "    # compute fisher score from laplacian score, where fisher_score = 1/lap_score - 1\n",
    "    score = 1.0/lap_score - 1\n",
    "    return np.transpose(score)"
   ]
  },
  {
   "cell_type": "code",
   "execution_count": 18,
   "metadata": {},
   "outputs": [],
   "source": [
    "def get_fisher_score(em_labels):\n",
    "    \n",
    "    X_theta, X_alpha = np.array(data_theta), np.array(data_alpha)\n",
    "    X_beta, X_gamma = np.array(data_beta), np.array(data_gamma)\n",
    "    y = np.array(em_labels)\n",
    "    # apply scalling of the given data\n",
    "    scaler = MinMaxScaler()\n",
    "    scaler.fit(X_theta)\n",
    "    X_theta = scaler.transform(X_theta)\n",
    "    scaler.fit(X_alpha)\n",
    "    X_alpha = scaler.transform(X_alpha)\n",
    "    scaler.fit(X_beta)\n",
    "    X_beta = scaler.transform(X_beta)\n",
    "    scaler.fit(X_gamma)\n",
    "    X_gamma = scaler.transform(X_gamma)\n",
    "    \n",
    "    fscore_theta, fscore_alpha = fisher_score(X_theta, y), fisher_score(X_alpha, y)\n",
    "    fscore_beta, fscore_gamma = fisher_score(X_beta, y), fisher_score(X_gamma, y)\n",
    "    \n",
    "    # Total Avearge F-Score (Theta, Alpha, Beta, Gamma)\n",
    "    final_f_score = (fscore_theta + fscore_alpha + fscore_beta + fscore_gamma)/4\n",
    "    fvalues = pd.Series(final_f_score)\n",
    "    fvalues.index = eeg_channels\n",
    "    fvalues.sort_values(ascending = False)\n",
    "    fvalues.to_csv('fscore_final.csv')\n",
    "    # for visualization run the below code\n",
    "    # fvalues.sort_values(ascending = False).plot.bar(figsize=(10,8))\n",
    "    df = fvalues.sort_values(ascending = False)\n",
    "    da = pd.DataFrame(df)\n",
    "    da.to_csv('channel_rank.csv')\n",
    "    cr = pd.read_csv('channel_rank.csv')\n",
    "    sort_channel_name = list(cr['Unnamed: 0'])\n",
    "    os.remove('channel_rank.csv') # delete the csv file\n",
    "    return sort_channel_name"
   ]
  },
  {
   "cell_type": "markdown",
   "metadata": {
    "id": "GJHHjtp-rOo_"
   },
   "source": [
    "# Classification"
   ]
  },
  {
   "cell_type": "code",
   "execution_count": 19,
   "metadata": {
    "id": "rxoQsqyl-sC-"
   },
   "outputs": [],
   "source": [
    "#Loading the dataset\n",
    "def svmclassifier(channel_name, data):\n",
    "    channel_names = []\n",
    "    for i in range(0, len(channel_name)):\n",
    "        draft = channel_name[i]\n",
    "        channel_names.append(draft + \"_alpha\")\n",
    "        channel_names.append(draft + \"_beta\")\n",
    "        channel_names.append(draft + \"_gamma\")\n",
    "        channel_names.append(draft + \"_theta\")\n",
    "    x, y = data[channel_names], np.array(em_labels)\n",
    "    # Implementing cross validation\n",
    "    kf = KFold(n_splits = k, shuffle = False)\n",
    "    acc_score = []\n",
    "    for train_index , test_index in kf.split(x):\n",
    "        x_train, x_test = x.iloc[train_index,:],x.iloc[test_index,:]\n",
    "        y_train, y_test = y[train_index] , y[test_index]\n",
    "        model = svm.SVC(kernel = 'poly')\n",
    "        model.fit(x_train, y_train)\n",
    "        pred_values = model.predict(x_test)\n",
    "        #pred_values = model.predict(x_test)\n",
    "        acc = accuracy_score(pred_values , y_test)\n",
    "        acc_score.append(acc)\n",
    "    avg_acc_score = sum(acc_score)/k\n",
    "    return avg_acc_score"
   ]
  },
  {
   "cell_type": "code",
   "execution_count": 20,
   "metadata": {
    "id": "5PhZZyG55qSM"
   },
   "outputs": [],
   "source": [
    "def growing_phase(channel_name):\n",
    "    cn = channel_name[0]\n",
    "    acc = svmclassifier([cn], all_band.copy())\n",
    "    cn_list = []\n",
    "    cn_list.append(cn)\n",
    "    sort_cn = []\n",
    "    for i in range(1, len(channel_name)):\n",
    "        cur_cn = channel_name[i]\n",
    "        cn_list.append(cur_cn)\n",
    "        cur_acc = svmclassifier(cn_list, all_band.copy())\n",
    "        if(cur_acc<acc):\n",
    "            cn_list.remove(cur_cn)\n",
    "        else:\n",
    "            acc = cur_acc\n",
    "    print('Accuracy in Growing Phase: ', acc)\n",
    "    print('No of selected channels in Growing Phase: ', len(cn_list))\n",
    "    print('Channels selected in Growing Phase: ', cn_list)\n",
    "    return cn_list"
   ]
  },
  {
   "cell_type": "markdown",
   "metadata": {
    "id": "pD-yBB7AzgaM"
   },
   "source": [
    "# Main Drive Code"
   ]
  },
  {
   "cell_type": "code",
   "execution_count": null,
   "metadata": {},
   "outputs": [],
   "source": [
    "k = 32 # testing\n",
    "em_labels = valence_data.copy()\n",
    "valence_channel_name = get_fisher_score(em_labels)\n",
    "optimal_valence_channel_name = growing_phase(valence_channel_name)\n",
    "em_labels = arousal_data.copy()\n",
    "arousal_channel_name = get_fisher_score(em_labels)\n",
    "optimal_arousal_channel_name = growing_phase(arousal_channel_name)\n",
    "em_labels = all_data.copy()\n",
    "all_channel_name = get_fisher_score(em_labels)\n",
    "optimal_all_channel_name = growing_phase(all_channel_name)"
   ]
  },
  {
   "cell_type": "code",
   "execution_count": 30,
   "metadata": {},
   "outputs": [
    {
     "name": "stdout",
     "output_type": "stream",
     "text": [
      "Accuracy in Growing Phase:  0.56328125\n",
      "No of selected channels in Growing Phase:  4\n",
      "Channels selected in Growing Phase:  ['P4', 'AF3', 'P3', 'P7']\n",
      "Accuracy in Growing Phase:  0.58984375\n",
      "No of selected channels in Growing Phase:  9\n",
      "Channels selected in Growing Phase:  ['T7', 'C3', 'F8', 'T8', 'FC5', 'Fp1', 'FC2', 'PO4', 'AF4']\n",
      "Accuracy in Growing Phase:  0.34921875\n",
      "No of selected channels in Growing Phase:  5\n",
      "Channels selected in Growing Phase:  ['P4', 'C4', 'C3', 'T7', 'P3']\n"
     ]
    }
   ],
   "source": [
    "k = 10 # testing\n",
    "em_labels = valence_data.copy()\n",
    "valence_channel_name = get_fisher_score(em_labels)\n",
    "optimal_valence_channel_name = growing_phase(valence_channel_name)\n",
    "em_labels = arousal_data.copy()\n",
    "arousal_channel_name = get_fisher_score(em_labels)\n",
    "optimal_arousal_channel_name = growing_phase(arousal_channel_name)\n",
    "em_labels = all_data.copy()\n",
    "all_channel_name = get_fisher_score(em_labels)\n",
    "optimal_all_channel_name = growing_phase(all_channel_name)"
   ]
  },
  {
   "cell_type": "code",
   "execution_count": 15,
   "metadata": {},
   "outputs": [
    {
     "name": "stdout",
     "output_type": "stream",
     "text": [
      "Accuracy in Growing Phase:  0.56640625\n",
      "No of selected channels in Growing Phase:  8\n",
      "Channels selected in Growing Phase:  ['AF3', 'Fp2', 'FC2', 'Fz', 'Oz', 'O1', 'CP1', 'FC1']\n",
      "Accuracy in Growing Phase:  0.5859375000000001\n",
      "No of selected channels in Growing Phase:  11\n",
      "Channels selected in Growing Phase:  ['T7', 'C3', 'C4', 'P4', 'F8', 'PO3', 'FC6', 'P3', 'FC5', 'Fp2', 'PO4']\n",
      "Accuracy in Growing Phase:  0.34921875\n",
      "No of selected channels in Growing Phase:  7\n",
      "Channels selected in Growing Phase:  ['T7', 'C4', 'C3', 'P4', 'Fp1', 'AF3', 'FC6']\n"
     ]
    }
   ],
   "source": [
    "k = 32 # band_48_fir_None_one\n",
    "em_labels = valence_data.copy()\n",
    "valence_channel_name = get_fisher_score(em_labels)\n",
    "optimal_valence_channel_name = growing_phase(valence_channel_name)\n",
    "em_labels = arousal_data.copy()\n",
    "arousal_channel_name = get_fisher_score(em_labels)\n",
    "optimal_arousal_channel_name = growing_phase(arousal_channel_name)\n",
    "em_labels = all_data.copy()\n",
    "all_channel_name = get_fisher_score(em_labels)\n",
    "optimal_all_channel_name = growing_phase(all_channel_name)"
   ]
  },
  {
   "cell_type": "code",
   "execution_count": 11,
   "metadata": {},
   "outputs": [
    {
     "name": "stdout",
     "output_type": "stream",
     "text": [
      "Accuracy in Growing Phase:  0.5703125\n",
      "No of selected channels in Growing Phase:  10\n",
      "Channels selected in Growing Phase:  ['AF3', 'FC2', 'F3', 'Fp1', 'Fz', 'PO4', 'FC5', 'O1', 'CP1', 'P3']\n",
      "Accuracy in Growing Phase:  0.58671875\n",
      "No of selected channels in Growing Phase:  4\n",
      "Channels selected in Growing Phase:  ['T7', 'C3', 'F8', 'P8']\n",
      "Accuracy in Growing Phase:  0.34375\n",
      "No of selected channels in Growing Phase:  9\n",
      "Channels selected in Growing Phase:  ['T7', 'C4', 'CP6', 'PO4', 'Fp1', 'P3', 'F4', 'AF3', 'FC5']\n"
     ]
    }
   ],
   "source": [
    "k = 20 # band_48_fir_None_one\n",
    "em_labels = valence_data.copy()\n",
    "valence_channel_name = get_fisher_score(em_labels)\n",
    "optimal_valence_channel_name = growing_phase(valence_channel_name)\n",
    "em_labels = arousal_data.copy()\n",
    "arousal_channel_name = get_fisher_score(em_labels)\n",
    "optimal_arousal_channel_name = growing_phase(arousal_channel_name)\n",
    "em_labels = all_data.copy()\n",
    "all_channel_name = get_fisher_score(em_labels)\n",
    "optimal_all_channel_name = growing_phase(all_channel_name)"
   ]
  },
  {
   "cell_type": "code",
   "execution_count": 12,
   "metadata": {},
   "outputs": [
    {
     "name": "stdout",
     "output_type": "stream",
     "text": [
      "Accuracy in Growing Phase:  0.5609375\n",
      "No of selected channels in Growing Phase:  8\n",
      "Channels selected in Growing Phase:  ['AF3', 'Fp2', 'FC2', 'PO3', 'O1', 'O2', 'P3', 'Pz']\n"
     ]
    },
    {
     "ename": "KeyboardInterrupt",
     "evalue": "",
     "output_type": "error",
     "traceback": [
      "\u001b[0;31m---------------------------------------------------------------------------\u001b[0m",
      "\u001b[0;31mKeyboardInterrupt\u001b[0m                         Traceback (most recent call last)",
      "\u001b[0;32m<ipython-input-12-242421f2fc7a>\u001b[0m in \u001b[0;36m<module>\u001b[0;34m\u001b[0m\n\u001b[1;32m      5\u001b[0m \u001b[0mem_labels\u001b[0m \u001b[0;34m=\u001b[0m \u001b[0marousal_data\u001b[0m\u001b[0;34m.\u001b[0m\u001b[0mcopy\u001b[0m\u001b[0;34m(\u001b[0m\u001b[0;34m)\u001b[0m\u001b[0;34m\u001b[0m\u001b[0;34m\u001b[0m\u001b[0m\n\u001b[1;32m      6\u001b[0m \u001b[0marousal_channel_name\u001b[0m \u001b[0;34m=\u001b[0m \u001b[0mget_fisher_score\u001b[0m\u001b[0;34m(\u001b[0m\u001b[0mem_labels\u001b[0m\u001b[0;34m)\u001b[0m\u001b[0;34m\u001b[0m\u001b[0;34m\u001b[0m\u001b[0m\n\u001b[0;32m----> 7\u001b[0;31m \u001b[0moptimal_arousal_channel_name\u001b[0m \u001b[0;34m=\u001b[0m \u001b[0mgrowing_phase\u001b[0m\u001b[0;34m(\u001b[0m\u001b[0marousal_channel_name\u001b[0m\u001b[0;34m)\u001b[0m\u001b[0;34m\u001b[0m\u001b[0;34m\u001b[0m\u001b[0m\n\u001b[0m\u001b[1;32m      8\u001b[0m \u001b[0mem_labels\u001b[0m \u001b[0;34m=\u001b[0m \u001b[0mall_data\u001b[0m\u001b[0;34m.\u001b[0m\u001b[0mcopy\u001b[0m\u001b[0;34m(\u001b[0m\u001b[0;34m)\u001b[0m\u001b[0;34m\u001b[0m\u001b[0;34m\u001b[0m\u001b[0m\n\u001b[1;32m      9\u001b[0m \u001b[0mall_channel_name\u001b[0m \u001b[0;34m=\u001b[0m \u001b[0mget_fisher_score\u001b[0m\u001b[0;34m(\u001b[0m\u001b[0mem_labels\u001b[0m\u001b[0;34m)\u001b[0m\u001b[0;34m\u001b[0m\u001b[0;34m\u001b[0m\u001b[0m\n",
      "\u001b[0;32m<ipython-input-10-8ec36d9a89db>\u001b[0m in \u001b[0;36mgrowing_phase\u001b[0;34m(channel_name)\u001b[0m\n\u001b[1;32m      8\u001b[0m         \u001b[0mcur_cn\u001b[0m \u001b[0;34m=\u001b[0m \u001b[0mchannel_name\u001b[0m\u001b[0;34m[\u001b[0m\u001b[0mi\u001b[0m\u001b[0;34m]\u001b[0m\u001b[0;34m\u001b[0m\u001b[0;34m\u001b[0m\u001b[0m\n\u001b[1;32m      9\u001b[0m         \u001b[0mcn_list\u001b[0m\u001b[0;34m.\u001b[0m\u001b[0mappend\u001b[0m\u001b[0;34m(\u001b[0m\u001b[0mcur_cn\u001b[0m\u001b[0;34m)\u001b[0m\u001b[0;34m\u001b[0m\u001b[0;34m\u001b[0m\u001b[0m\n\u001b[0;32m---> 10\u001b[0;31m         \u001b[0mcur_acc\u001b[0m \u001b[0;34m=\u001b[0m \u001b[0msvmclassifier\u001b[0m\u001b[0;34m(\u001b[0m\u001b[0mcn_list\u001b[0m\u001b[0;34m,\u001b[0m \u001b[0mall_band\u001b[0m\u001b[0;34m.\u001b[0m\u001b[0mcopy\u001b[0m\u001b[0;34m(\u001b[0m\u001b[0;34m)\u001b[0m\u001b[0;34m)\u001b[0m\u001b[0;34m\u001b[0m\u001b[0;34m\u001b[0m\u001b[0m\n\u001b[0m\u001b[1;32m     11\u001b[0m         \u001b[0;32mif\u001b[0m\u001b[0;34m(\u001b[0m\u001b[0mcur_acc\u001b[0m\u001b[0;34m<\u001b[0m\u001b[0macc\u001b[0m\u001b[0;34m)\u001b[0m\u001b[0;34m:\u001b[0m\u001b[0;34m\u001b[0m\u001b[0;34m\u001b[0m\u001b[0m\n\u001b[1;32m     12\u001b[0m             \u001b[0mcn_list\u001b[0m\u001b[0;34m.\u001b[0m\u001b[0mremove\u001b[0m\u001b[0;34m(\u001b[0m\u001b[0mcur_cn\u001b[0m\u001b[0;34m)\u001b[0m\u001b[0;34m\u001b[0m\u001b[0;34m\u001b[0m\u001b[0m\n",
      "\u001b[0;32m<ipython-input-9-1caf2eb9fce5>\u001b[0m in \u001b[0;36msvmclassifier\u001b[0;34m(channel_name, data)\u001b[0m\n\u001b[1;32m     16\u001b[0m         \u001b[0my_train\u001b[0m\u001b[0;34m,\u001b[0m \u001b[0my_test\u001b[0m \u001b[0;34m=\u001b[0m \u001b[0my\u001b[0m\u001b[0;34m[\u001b[0m\u001b[0mtrain_index\u001b[0m\u001b[0;34m]\u001b[0m \u001b[0;34m,\u001b[0m \u001b[0my\u001b[0m\u001b[0;34m[\u001b[0m\u001b[0mtest_index\u001b[0m\u001b[0;34m]\u001b[0m\u001b[0;34m\u001b[0m\u001b[0;34m\u001b[0m\u001b[0m\n\u001b[1;32m     17\u001b[0m         \u001b[0mmodel\u001b[0m \u001b[0;34m=\u001b[0m \u001b[0msvm\u001b[0m\u001b[0;34m.\u001b[0m\u001b[0mSVC\u001b[0m\u001b[0;34m(\u001b[0m\u001b[0mkernel\u001b[0m \u001b[0;34m=\u001b[0m \u001b[0;34m'poly'\u001b[0m\u001b[0;34m)\u001b[0m\u001b[0;34m\u001b[0m\u001b[0;34m\u001b[0m\u001b[0m\n\u001b[0;32m---> 18\u001b[0;31m         \u001b[0mmodel\u001b[0m\u001b[0;34m.\u001b[0m\u001b[0mfit\u001b[0m\u001b[0;34m(\u001b[0m\u001b[0mx_train\u001b[0m\u001b[0;34m,\u001b[0m \u001b[0my_train\u001b[0m\u001b[0;34m)\u001b[0m\u001b[0;34m\u001b[0m\u001b[0;34m\u001b[0m\u001b[0m\n\u001b[0m\u001b[1;32m     19\u001b[0m         \u001b[0mpred_values\u001b[0m \u001b[0;34m=\u001b[0m \u001b[0mmodel\u001b[0m\u001b[0;34m.\u001b[0m\u001b[0mpredict\u001b[0m\u001b[0;34m(\u001b[0m\u001b[0mx_test\u001b[0m\u001b[0;34m)\u001b[0m\u001b[0;34m\u001b[0m\u001b[0;34m\u001b[0m\u001b[0m\n\u001b[1;32m     20\u001b[0m         \u001b[0;31m#pred_values = model.predict(x_test)\u001b[0m\u001b[0;34m\u001b[0m\u001b[0;34m\u001b[0m\u001b[0;34m\u001b[0m\u001b[0m\n",
      "\u001b[0;32m/Applications/anaconda3/lib/python3.8/site-packages/sklearn/svm/_base.py\u001b[0m in \u001b[0;36mfit\u001b[0;34m(self, X, y, sample_weight)\u001b[0m\n\u001b[1;32m    224\u001b[0m \u001b[0;34m\u001b[0m\u001b[0m\n\u001b[1;32m    225\u001b[0m         \u001b[0mseed\u001b[0m \u001b[0;34m=\u001b[0m \u001b[0mrnd\u001b[0m\u001b[0;34m.\u001b[0m\u001b[0mrandint\u001b[0m\u001b[0;34m(\u001b[0m\u001b[0mnp\u001b[0m\u001b[0;34m.\u001b[0m\u001b[0miinfo\u001b[0m\u001b[0;34m(\u001b[0m\u001b[0;34m'i'\u001b[0m\u001b[0;34m)\u001b[0m\u001b[0;34m.\u001b[0m\u001b[0mmax\u001b[0m\u001b[0;34m)\u001b[0m\u001b[0;34m\u001b[0m\u001b[0;34m\u001b[0m\u001b[0m\n\u001b[0;32m--> 226\u001b[0;31m         \u001b[0mfit\u001b[0m\u001b[0;34m(\u001b[0m\u001b[0mX\u001b[0m\u001b[0;34m,\u001b[0m \u001b[0my\u001b[0m\u001b[0;34m,\u001b[0m \u001b[0msample_weight\u001b[0m\u001b[0;34m,\u001b[0m \u001b[0msolver_type\u001b[0m\u001b[0;34m,\u001b[0m \u001b[0mkernel\u001b[0m\u001b[0;34m,\u001b[0m \u001b[0mrandom_seed\u001b[0m\u001b[0;34m=\u001b[0m\u001b[0mseed\u001b[0m\u001b[0;34m)\u001b[0m\u001b[0;34m\u001b[0m\u001b[0;34m\u001b[0m\u001b[0m\n\u001b[0m\u001b[1;32m    227\u001b[0m         \u001b[0;31m# see comment on the other call to np.iinfo in this file\u001b[0m\u001b[0;34m\u001b[0m\u001b[0;34m\u001b[0m\u001b[0;34m\u001b[0m\u001b[0m\n\u001b[1;32m    228\u001b[0m \u001b[0;34m\u001b[0m\u001b[0m\n",
      "\u001b[0;32m/Applications/anaconda3/lib/python3.8/site-packages/sklearn/svm/_base.py\u001b[0m in \u001b[0;36m_dense_fit\u001b[0;34m(self, X, y, sample_weight, solver_type, kernel, random_seed)\u001b[0m\n\u001b[1;32m    275\u001b[0m         \u001b[0mself\u001b[0m\u001b[0;34m.\u001b[0m\u001b[0msupport_\u001b[0m\u001b[0;34m,\u001b[0m \u001b[0mself\u001b[0m\u001b[0;34m.\u001b[0m\u001b[0msupport_vectors_\u001b[0m\u001b[0;34m,\u001b[0m \u001b[0mself\u001b[0m\u001b[0;34m.\u001b[0m\u001b[0m_n_support\u001b[0m\u001b[0;34m,\u001b[0m\u001b[0;31m \u001b[0m\u001b[0;31m\\\u001b[0m\u001b[0;34m\u001b[0m\u001b[0;34m\u001b[0m\u001b[0m\n\u001b[1;32m    276\u001b[0m             \u001b[0mself\u001b[0m\u001b[0;34m.\u001b[0m\u001b[0mdual_coef_\u001b[0m\u001b[0;34m,\u001b[0m \u001b[0mself\u001b[0m\u001b[0;34m.\u001b[0m\u001b[0mintercept_\u001b[0m\u001b[0;34m,\u001b[0m \u001b[0mself\u001b[0m\u001b[0;34m.\u001b[0m\u001b[0m_probA\u001b[0m\u001b[0;34m,\u001b[0m\u001b[0;31m \u001b[0m\u001b[0;31m\\\u001b[0m\u001b[0;34m\u001b[0m\u001b[0;34m\u001b[0m\u001b[0m\n\u001b[0;32m--> 277\u001b[0;31m             self._probB, self.fit_status_ = libsvm.fit(\n\u001b[0m\u001b[1;32m    278\u001b[0m                 \u001b[0mX\u001b[0m\u001b[0;34m,\u001b[0m \u001b[0my\u001b[0m\u001b[0;34m,\u001b[0m\u001b[0;34m\u001b[0m\u001b[0;34m\u001b[0m\u001b[0m\n\u001b[1;32m    279\u001b[0m                 \u001b[0msvm_type\u001b[0m\u001b[0;34m=\u001b[0m\u001b[0msolver_type\u001b[0m\u001b[0;34m,\u001b[0m \u001b[0msample_weight\u001b[0m\u001b[0;34m=\u001b[0m\u001b[0msample_weight\u001b[0m\u001b[0;34m,\u001b[0m\u001b[0;34m\u001b[0m\u001b[0;34m\u001b[0m\u001b[0m\n",
      "\u001b[0;31mKeyboardInterrupt\u001b[0m: "
     ]
    }
   ],
   "source": [
    "k = 10 # band_48_fir_None_one\n",
    "em_labels = valence_data.copy()\n",
    "valence_channel_name = get_fisher_score(em_labels)\n",
    "optimal_valence_channel_name = growing_phase(valence_channel_name)\n",
    "em_labels = arousal_data.copy()\n",
    "arousal_channel_name = get_fisher_score(em_labels)\n",
    "optimal_arousal_channel_name = growing_phase(arousal_channel_name)\n",
    "em_labels = all_data.copy()\n",
    "all_channel_name = get_fisher_score(em_labels)\n",
    "optimal_all_channel_name = growing_phase(all_channel_name)\n"
   ]
  },
  {
   "cell_type": "code",
   "execution_count": null,
   "metadata": {},
   "outputs": [],
   "source": [
    "k = 20 # band_48_fir_None_one\n",
    "em_labels = valence_data.copy()\n",
    "valence_channel_name = get_fisher_score(em_labels)\n",
    "optimal_valence_channel_name = growing_phase(valence_channel_name)\n",
    "em_labels = arousal_data.copy()\n",
    "arousal_channel_name = get_fisher_score(em_labels)\n",
    "optimal_arousal_channel_name = growing_phase(arousal_channel_name)\n",
    "em_labels = all_data.copy()\n",
    "all_channel_name = get_fisher_score(em_labels)\n",
    "optimal_all_channel_name = growing_phase(all_channel_name)"
   ]
  },
  {
   "cell_type": "code",
   "execution_count": 26,
   "metadata": {},
   "outputs": [
    {
     "name": "stdout",
     "output_type": "stream",
     "text": [
      "Accuracy in Growing Phase:  0.56796875\n",
      "No of selected channels in Growing Phase:  4\n",
      "Channels selected in Growing Phase:  ['PO4', 'Fz', 'O1', 'FC6']\n",
      "Accuracy in Growing Phase:  0.5765625000000001\n",
      "No of selected channels in Growing Phase:  6\n",
      "Channels selected in Growing Phase:  ['T7', 'Cz', 'C3', 'F7', 'FC5', 'FC1']\n",
      "Accuracy in Growing Phase:  0.35390625\n",
      "No of selected channels in Growing Phase:  10\n",
      "Channels selected in Growing Phase:  ['PO4', 'CP6', 'CP2', 'FC2', 'AF3', 'F4', 'F3', 'C3', 'Pz', 'P3']\n"
     ]
    }
   ],
   "source": [
    "k = 32 # band_48_fir_None_two\n",
    "em_labels = valence_data.copy()\n",
    "valence_channel_name = get_fisher_score(em_labels)\n",
    "optimal_valence_channel_name = growing_phase(valence_channel_name)\n",
    "em_labels = arousal_data.copy()\n",
    "arousal_channel_name = get_fisher_score(em_labels)\n",
    "optimal_arousal_channel_name = growing_phase(arousal_channel_name)\n",
    "em_labels = all_data.copy()\n",
    "all_channel_name = get_fisher_score(em_labels)\n",
    "optimal_all_channel_name = growing_phase(all_channel_name)"
   ]
  },
  {
   "cell_type": "code",
   "execution_count": 37,
   "metadata": {},
   "outputs": [
    {
     "name": "stdout",
     "output_type": "stream",
     "text": [
      "Accuracy in Growing Phase:  0.56796875\n",
      "No of selected channels in Growing Phase:  3\n",
      "Channels selected in Growing Phase:  ['CP1', 'CP6', 'AF3']\n",
      "Accuracy in Growing Phase:  0.58515625\n",
      "No of selected channels in Growing Phase:  10\n",
      "Channels selected in Growing Phase:  ['P4', 'Pz', 'AF3', 'CP1', 'FC5', 'CP5', 'P7', 'F4', 'T8', 'Fz']\n",
      "Accuracy in Growing Phase:  0.34609375\n",
      "No of selected channels in Growing Phase:  4\n",
      "Channels selected in Growing Phase:  ['Cz', 'C3', 'P7', 'CP6']\n"
     ]
    }
   ],
   "source": [
    "k = 10 # band_48_fir_32_one\n",
    "em_labels = valence_data.copy()\n",
    "valence_channel_name = get_fisher_score(em_labels)\n",
    "optimal_valence_channel_name = growing_phase(valence_channel_name)\n",
    "em_labels = arousal_data.copy()\n",
    "arousal_channel_name = get_fisher_score(em_labels)\n",
    "optimal_arousal_channel_name = growing_phase(arousal_channel_name)\n",
    "em_labels = all_data.copy()\n",
    "all_channel_name = get_fisher_score(em_labels)\n",
    "optimal_all_channel_name = growing_phase(all_channel_name)"
   ]
  },
  {
   "cell_type": "code",
   "execution_count": 39,
   "metadata": {},
   "outputs": [
    {
     "name": "stdout",
     "output_type": "stream",
     "text": [
      "Accuracy in Growing Phase:  0.56640625\n",
      "No of selected channels in Growing Phase:  3\n",
      "Channels selected in Growing Phase:  ['CP1', 'CP6', 'AF3']\n",
      "Accuracy in Growing Phase:  0.5835937500000001\n",
      "No of selected channels in Growing Phase:  11\n",
      "Channels selected in Growing Phase:  ['P4', 'Pz', 'FC1', 'Cz', 'FC5', 'F3', 'P7', 'F4', 'Fz', 'CP6', 'FC6']\n",
      "Accuracy in Growing Phase:  0.34921875\n",
      "No of selected channels in Growing Phase:  4\n",
      "Channels selected in Growing Phase:  ['Cz', 'C3', 'F3', 'F4']\n"
     ]
    }
   ],
   "source": [
    "k = 32 # band_48_fir_32_one\n",
    "em_labels = valence_data.copy()\n",
    "valence_channel_name = get_fisher_score(em_labels)\n",
    "optimal_valence_channel_name = growing_phase(valence_channel_name)\n",
    "em_labels = arousal_data.copy()\n",
    "arousal_channel_name = get_fisher_score(em_labels)\n",
    "optimal_arousal_channel_name = growing_phase(arousal_channel_name)\n",
    "em_labels = all_data.copy()\n",
    "all_channel_name = get_fisher_score(em_labels)\n",
    "optimal_all_channel_name = growing_phase(all_channel_name)"
   ]
  },
  {
   "cell_type": "code",
   "execution_count": null,
   "metadata": {},
   "outputs": [],
   "source": []
  },
  {
   "cell_type": "code",
   "execution_count": 15,
   "metadata": {},
   "outputs": [
    {
     "name": "stdout",
     "output_type": "stream",
     "text": [
      "Accuracy in Growing Phase:  0.5640625\n",
      "No of selected channels in Growing Phase:  6\n",
      "Channels selected in Growing Phase:  ['AF3', 'FC2', 'PO3', 'F4', 'FC5', 'O1']\n",
      "Accuracy in Growing Phase:  0.5867187500000001\n",
      "No of selected channels in Growing Phase:  12\n",
      "Channels selected in Growing Phase:  ['T7', 'C3', 'F8', 'P4', 'CP6', 'F4', 'P7', 'PO3', 'CP2', 'FC6', 'Fp2', 'AF3']\n",
      "Accuracy in Growing Phase:  0.34921874999999997\n",
      "No of selected channels in Growing Phase:  9\n",
      "Channels selected in Growing Phase:  ['T7', 'C4', 'O2', 'Cz', 'Oz', 'P3', 'F4', 'AF3', 'FC5']\n"
     ]
    }
   ],
   "source": [
    "k = 32 # 45 hz fir none one\n",
    "em_labels = valence_data.copy()\n",
    "valence_channel_name = get_fisher_score(em_labels)\n",
    "optimal_valence_channel_name = growing_phase(valence_channel_name)\n",
    "em_labels = arousal_data.copy()\n",
    "arousal_channel_name = get_fisher_score(em_labels)\n",
    "optimal_arousal_channel_name = growing_phase(arousal_channel_name)\n",
    "em_labels = all_data.copy()\n",
    "all_channel_name = get_fisher_score(em_labels)\n",
    "optimal_all_channel_name = growing_phase(all_channel_name)"
   ]
  },
  {
   "cell_type": "code",
   "execution_count": null,
   "metadata": {},
   "outputs": [],
   "source": [
    "'''\n",
    "k = 10\n",
    "Accuracy in Growing Phase:  0.559375\n",
    "No of selected channels in Growing Phase:  10\n",
    "Channels selected in Growing Phase:  ['AF4', 'F4', 'Fp2', 'Fp1', 'FC5', 'FC6', 'FC1', 'C3', 'P4', 'P8']\n",
    "\n",
    "Accuracy in Growing Phase:  0.58046875\n",
    "No of selected channels in Growing Phase:  5\n",
    "Channels selected in Growing Phase:  ['T7', 'O2', 'F8', 'O1', 'Fz']\n",
    "\n",
    "Accuracy in Growing Phase:  0.34765625\n",
    "No of selected channels in Growing Phase:  7\n",
    "Channels selected in Growing Phase:  ['T7', 'C3', 'Fp1', 'O2', 'Oz', 'CP1', 'T8']\n",
    "'''\n",
    "\n",
    "'''\n",
    "k = 20\n",
    "Accuracy in Growing Phase:  0.559375\n",
    "No of selected channels in Growing Phase:  7\n",
    "Channels selected in Growing Phase:  ['AF4', 'F4', 'Fp1', 'FC2', 'Oz', 'FC6', 'T7']\n",
    "Accuracy in Growing Phase:  0.58359375\n",
    "No of selected channels in Growing Phase:  8\n",
    "Channels selected in Growing Phase:  ['T7', 'F7', 'C4', 'Pz', 'FC6', 'P8', 'CP1', 'P3']\n",
    "Accuracy in Growing Phase:  0.34921875\n",
    "No of selected channels in Growing Phase:  6\n",
    "Channels selected in Growing Phase:  ['T7', 'C3', 'Fp1', 'P4', 'P3', 'P7']\n",
    "'''\n",
    "\n",
    "'''\n",
    "k = 15\n",
    "Accuracy in Growing Phase:  0.562389420884633\n",
    "No of selected channels in Growing Phase:  7\n",
    "Channels selected in Growing Phase:  ['AF4', 'Fp2', 'P4', 'AF3', 'P8', 'Pz', 'FC1']\n",
    "\n",
    "Accuracy in Growing Phase:  0.5862106703146375\n",
    "No of selected channels in Growing Phase:  12\n",
    "Channels selected in Growing Phase:  ['T7', 'F7', 'C3', 'FC1', 'Pz', 'P8', 'Fp2', 'Cz', 'PO4', 'Fp1', 'F4', 'AF4']\n",
    "\n",
    "Accuracy in Growing Phase:  0.34702234382124947\n",
    "No of selected channels in Growing Phase:  5\n",
    "Channels selected in Growing Phase:  ['T7', 'C3', 'F7', 'F4', 'PO4']\n",
    "'''"
   ]
  },
  {
   "cell_type": "markdown",
   "metadata": {
    "id": "c8ujf3N2SQ66"
   },
   "source": [
    "# Result Analysis"
   ]
  },
  {
   "cell_type": "code",
   "execution_count": 88,
   "metadata": {},
   "outputs": [
    {
     "name": "stdout",
     "output_type": "stream",
     "text": [
      "s01  Accuarcy taking optimal channels:  0.425\n",
      "s02  Accuarcy taking optimal channels:  0.625\n",
      "s03  Accuarcy taking optimal channels:  0.65\n",
      "s04  Accuarcy taking optimal channels:  0.6\n",
      "s05  Accuarcy taking optimal channels:  0.675\n",
      "s06  Accuarcy taking optimal channels:  0.7\n",
      "s07  Accuarcy taking optimal channels:  0.5\n",
      "s08  Accuarcy taking optimal channels:  0.6\n",
      "s09  Accuarcy taking optimal channels:  0.775\n",
      "s10  Accuarcy taking optimal channels:  0.6\n",
      "s11  Accuarcy taking optimal channels:  0.625\n",
      "s12  Accuarcy taking optimal channels:  0.6\n",
      "s13  Accuarcy taking optimal channels:  0.725\n",
      "s14  Accuarcy taking optimal channels:  0.675\n",
      "s15  Accuarcy taking optimal channels:  0.425\n",
      "s16  Accuarcy taking optimal channels:  0.6\n",
      "s17  Accuarcy taking optimal channels:  0.5\n",
      "s18  Accuarcy taking optimal channels:  0.825\n",
      "s19  Accuarcy taking optimal channels:  0.65\n",
      "s20  Accuarcy taking optimal channels:  0.625\n",
      "s21  Accuarcy taking optimal channels:  0.55\n",
      "s22  Accuarcy taking optimal channels:  0.675\n",
      "s23  Accuarcy taking optimal channels:  0.65\n",
      "s24  Accuarcy taking optimal channels:  0.6\n",
      "s25  Accuarcy taking optimal channels:  0.55\n",
      "s26  Accuarcy taking optimal channels:  0.35\n",
      "s27  Accuarcy taking optimal channels:  0.75\n",
      "s28  Accuarcy taking optimal channels:  0.675\n",
      "s29  Accuarcy taking optimal channels:  0.6\n",
      "s30  Accuarcy taking optimal channels:  0.6\n",
      "s31  Accuarcy taking optimal channels:  0.425\n",
      "s32  Accuarcy taking optimal channels:  0.6\n",
      "Overall Accuracy:  60.703125  with std(+/-)  10.293246705212841\n"
     ]
    }
   ],
   "source": [
    "accuracy = []\n",
    "for subject_name in subject_names[0:32]:\n",
    "    band_wise_data_path =  datafiles_path + subject_name + '/rawfiles/'\n",
    "    mypath = band_wise_data_path + subject_name\n",
    "    data = pd.read_csv(mypath + '.csv')\n",
    "    data_col = data.columns\n",
    "    # Do min max scalling\n",
    "    k = 40 # one way leave out\n",
    "    scaler = MinMaxScaler()\n",
    "    scaler.fit(np.array(data))\n",
    "    data_arr = scaler.transform(np.array(data))\n",
    "    data = pd.DataFrame(data_arr, columns = data_col)\n",
    "    link = deap_dataset_path + subject_name + '.dat'\n",
    "    with open(link, 'rb') as f:\n",
    "        raw_data = pickle.load(f, encoding = 'latin1')\n",
    "    labels = raw_data['labels']\n",
    "    em_labels = emotion_label(labels, 'valence') # get the emotion labels\n",
    "    opt_channel = ['AF4', 'F4', 'Fp1', 'FC2', 'Oz', 'FC6', 'T7']\n",
    "    acc = svmclassifier(opt_channel, data)\n",
    "    accuracy.append(acc*100)\n",
    "    print(subject_name,' Accuarcy taking optimal channels: ', acc)\n",
    "print('Overall Accuracy: ', np.mean(np.array(accuracy)), ' with std(+/-) ', np.std(np.array(accuracy)))"
   ]
  },
  {
   "cell_type": "code",
   "execution_count": 89,
   "metadata": {},
   "outputs": [
    {
     "name": "stdout",
     "output_type": "stream",
     "text": [
      "[42.5, 62.5, 65.0, 60.0, 67.5, 70.0, 50.0, 60.0, 77.5, 60.0, 62.5, 60.0, 72.5, 67.5, 42.5, 60.0, 50.0, 82.5, 65.0, 62.5, 55.00000000000001, 67.5, 65.0, 60.0, 55.00000000000001, 35.0, 75.0, 67.5, 60.0, 60.0, 42.5, 60.0]\n"
     ]
    }
   ],
   "source": [
    "print(accuracy)"
   ]
  },
  {
   "cell_type": "code",
   "execution_count": 90,
   "metadata": {},
   "outputs": [
    {
     "name": "stdout",
     "output_type": "stream",
     "text": [
      "s01  Accuarcy taking optimal channels:  0.6\n",
      "s02  Accuarcy taking optimal channels:  0.45\n",
      "s03  Accuarcy taking optimal channels:  0.775\n",
      "s04  Accuarcy taking optimal channels:  0.675\n",
      "s05  Accuarcy taking optimal channels:  0.35\n",
      "s06  Accuarcy taking optimal channels:  0.525\n",
      "s07  Accuarcy taking optimal channels:  0.625\n",
      "s08  Accuarcy taking optimal channels:  0.5\n",
      "s09  Accuarcy taking optimal channels:  0.325\n",
      "s10  Accuarcy taking optimal channels:  0.675\n",
      "s11  Accuarcy taking optimal channels:  0.7\n",
      "s12  Accuarcy taking optimal channels:  0.85\n",
      "s13  Accuarcy taking optimal channels:  0.75\n",
      "s14  Accuarcy taking optimal channels:  0.675\n",
      "s15  Accuarcy taking optimal channels:  0.575\n",
      "s16  Accuarcy taking optimal channels:  0.575\n",
      "s17  Accuarcy taking optimal channels:  0.75\n",
      "s18  Accuarcy taking optimal channels:  0.625\n",
      "s19  Accuarcy taking optimal channels:  0.675\n",
      "s20  Accuarcy taking optimal channels:  0.775\n",
      "s21  Accuarcy taking optimal channels:  0.725\n",
      "s22  Accuarcy taking optimal channels:  0.55\n",
      "s23  Accuarcy taking optimal channels:  0.675\n",
      "s24  Accuarcy taking optimal channels:  0.8\n",
      "s25  Accuarcy taking optimal channels:  0.6\n",
      "s26  Accuarcy taking optimal channels:  0.675\n",
      "s27  Accuarcy taking optimal channels:  0.675\n",
      "s28  Accuarcy taking optimal channels:  0.5\n",
      "s29  Accuarcy taking optimal channels:  0.675\n",
      "s30  Accuarcy taking optimal channels:  0.65\n",
      "s31  Accuarcy taking optimal channels:  0.675\n",
      "s32  Accuarcy taking optimal channels:  0.575\n",
      "Overall Accuracy:  0.63203125  with std(+/-)  0.11812903018918551\n"
     ]
    }
   ],
   "source": [
    "accuracy = []\n",
    "for subject_name in subject_names[0:32]:\n",
    "    band_wise_data_path =  datafiles_path + subject_name + '/rawfiles/'\n",
    "    mypath = band_wise_data_path + subject_name\n",
    "    data = pd.read_csv(mypath + '.csv')\n",
    "    data_col = data.columns\n",
    "    k = 40 # Do min max scalling\n",
    "    scaler = MinMaxScaler()\n",
    "    scaler.fit(np.array(data))\n",
    "    data_arr = scaler.transform(np.array(data))\n",
    "    data = pd.DataFrame(data_arr, columns = data_col)\n",
    "    link = deap_dataset_path + subject_name + '.dat'\n",
    "    with open(link, 'rb') as f:\n",
    "        raw_data = pickle.load(f, encoding = 'latin1')\n",
    "    labels = raw_data['labels']\n",
    "    em_labels = emotion_label(labels, 'arousal') # get the emotion labels\n",
    "    opt_ch = ['T7', 'F7', 'C4', 'Pz', 'FC6', 'P8', 'CP1', 'P3'] # k = 20 # 63.2% # 61.56%\n",
    "    acc = svmclassifier(opt_ch, data)\n",
    "    accuracy.append(acc)\n",
    "    print(subject_name, ' Accuarcy taking optimal channels: ', acc)\n",
    "print('Overall Accuracy: ', np.mean(np.array(accuracy)), ' with std(+/-) ', np.std(np.array(accuracy)))"
   ]
  },
  {
   "cell_type": "code",
   "execution_count": 91,
   "metadata": {},
   "outputs": [
    {
     "name": "stdout",
     "output_type": "stream",
     "text": [
      "[0.6, 0.45, 0.775, 0.675, 0.35, 0.525, 0.625, 0.5, 0.325, 0.675, 0.7, 0.85, 0.75, 0.675, 0.575, 0.575, 0.75, 0.625, 0.675, 0.775, 0.725, 0.55, 0.675, 0.8, 0.6, 0.675, 0.675, 0.5, 0.675, 0.65, 0.675, 0.575]\n"
     ]
    }
   ],
   "source": [
    "print(accuracy)"
   ]
  },
  {
   "cell_type": "code",
   "execution_count": 92,
   "metadata": {},
   "outputs": [
    {
     "name": "stdout",
     "output_type": "stream",
     "text": [
      "s01  Accuarcy taking optimal channels:  0.425\n",
      "s02  Accuarcy taking optimal channels:  0.45\n",
      "s03  Accuarcy taking optimal channels:  0.4\n",
      "s04  Accuarcy taking optimal channels:  0.525\n",
      "s05  Accuarcy taking optimal channels:  0.2\n",
      "s06  Accuarcy taking optimal channels:  0.3\n",
      "s07  Accuarcy taking optimal channels:  0.325\n",
      "s08  Accuarcy taking optimal channels:  0.3\n",
      "s09  Accuarcy taking optimal channels:  0.4\n",
      "s10  Accuarcy taking optimal channels:  0.425\n",
      "s11  Accuarcy taking optimal channels:  0.475\n",
      "s12  Accuarcy taking optimal channels:  0.5\n",
      "s13  Accuarcy taking optimal channels:  0.575\n",
      "s14  Accuarcy taking optimal channels:  0.45\n",
      "s15  Accuarcy taking optimal channels:  0.25\n",
      "s16  Accuarcy taking optimal channels:  0.15\n",
      "s17  Accuarcy taking optimal channels:  0.3\n",
      "s18  Accuarcy taking optimal channels:  0.25\n",
      "s19  Accuarcy taking optimal channels:  0.475\n",
      "s20  Accuarcy taking optimal channels:  0.6\n",
      "s21  Accuarcy taking optimal channels:  0.2\n",
      "s22  Accuarcy taking optimal channels:  0.425\n",
      "s23  Accuarcy taking optimal channels:  0.4\n",
      "s24  Accuarcy taking optimal channels:  0.475\n",
      "s25  Accuarcy taking optimal channels:  0.35\n",
      "s26  Accuarcy taking optimal channels:  0.475\n",
      "s27  Accuarcy taking optimal channels:  0.55\n",
      "s28  Accuarcy taking optimal channels:  0.35\n",
      "s29  Accuarcy taking optimal channels:  0.45\n",
      "s30  Accuarcy taking optimal channels:  0.25\n",
      "s31  Accuarcy taking optimal channels:  0.4\n",
      "s32  Accuarcy taking optimal channels:  0.35\n",
      "Overall Accuracy:  0.3890625  with std(+/-)  0.11179248004114588\n"
     ]
    }
   ],
   "source": [
    "accuracy = []\n",
    "for subject_name in subject_names[0:32]:\n",
    "    band_wise_data_path =  datafiles_path + subject_name + '/rawfiles/'\n",
    "    mypath = band_wise_data_path + subject_name\n",
    "    data = pd.read_csv(mypath + '.csv')\n",
    "    data_col = data.columns\n",
    "    k = 40 # Do min max scalling\n",
    "    scaler = MinMaxScaler()\n",
    "    scaler.fit(np.array(data))\n",
    "    data_arr = scaler.transform(np.array(data))\n",
    "    data = pd.DataFrame(data_arr, columns = data_col)\n",
    "    link = deap_dataset_path + subject_name + '.dat'\n",
    "    with open(link, 'rb') as f:\n",
    "        raw_data = pickle.load(f, encoding = 'latin1')\n",
    "    labels = raw_data['labels']\n",
    "    em_labels = emotion_label(labels, 'all') # get the emotion labels\n",
    "    opt_ch = ['T7', 'C3', 'Fp1', 'P4', 'P3', 'P7']\n",
    "    acc = svmclassifier(opt_ch, data)\n",
    "    accuracy.append(acc)\n",
    "    print(subject_name, ' Accuarcy taking optimal channels: ', acc)\n",
    "print('Overall Accuracy: ', np.mean(np.array(accuracy)), ' with std(+/-) ', np.std(np.array(accuracy)))"
   ]
  },
  {
   "cell_type": "code",
   "execution_count": 93,
   "metadata": {},
   "outputs": [
    {
     "name": "stdout",
     "output_type": "stream",
     "text": [
      "[0.425, 0.45, 0.4, 0.525, 0.2, 0.3, 0.325, 0.3, 0.4, 0.425, 0.475, 0.5, 0.575, 0.45, 0.25, 0.15, 0.3, 0.25, 0.475, 0.6, 0.2, 0.425, 0.4, 0.475, 0.35, 0.475, 0.55, 0.35, 0.45, 0.25, 0.4, 0.35]\n"
     ]
    }
   ],
   "source": [
    "print(accuracy)"
   ]
  },
  {
   "cell_type": "code",
   "execution_count": null,
   "metadata": {},
   "outputs": [],
   "source": []
  }
 ],
 "metadata": {
  "colab": {
   "collapsed_sections": [],
   "name": "Step:2-- Subject Independent channel selection BCI",
   "provenance": [
    {
     "file_id": "1v2nrgaG1rHKKjyqEdTTBdr7mQtwKGlR1",
     "timestamp": 1640765724126
    },
    {
     "file_id": "10F39e4jCcK7rgtf-QCa4RADbzAhERecT",
     "timestamp": 1637693415853
    },
    {
     "file_id": "1WnPcs4NNJw4G-Y5noJs_bYmCH-8NUS99",
     "timestamp": 1637691539598
    },
    {
     "file_id": "1_aNd9W_ox0bPqI3ULdUB0VDEOOAvN__A",
     "timestamp": 1637169672125
    }
   ]
  },
  "kernelspec": {
   "display_name": "Python 3",
   "language": "python",
   "name": "python3"
  },
  "language_info": {
   "codemirror_mode": {
    "name": "ipython",
    "version": 3
   },
   "file_extension": ".py",
   "mimetype": "text/x-python",
   "name": "python",
   "nbconvert_exporter": "python",
   "pygments_lexer": "ipython3",
   "version": "3.8.8"
  }
 },
 "nbformat": 4,
 "nbformat_minor": 1
}
