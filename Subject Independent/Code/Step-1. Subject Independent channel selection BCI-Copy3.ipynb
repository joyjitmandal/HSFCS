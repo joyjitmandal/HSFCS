{
 "cells": [
  {
   "cell_type": "code",
   "execution_count": 1,
   "metadata": {
    "id": "q5UDY40xrsZF"
   },
   "outputs": [],
   "source": [
    "import pickle, copy, warnings, os\n",
    "import pandas as pd\n",
    "import numpy as np\n",
    "import matplotlib.pyplot as plt\n",
    "import seaborn as sns\n",
    "from sklearn import svm\n",
    "from itertools import chain\n",
    "from sklearn.preprocessing import MinMaxScaler\n",
    "from sklearn.metrics import accuracy_score\n",
    "from sklearn.model_selection import KFold\n",
    "warnings.filterwarnings('ignore')\n",
    "from skfeature.utility.construct_W import construct_W\n",
    "from scipy.sparse import diags"
   ]
  },
  {
   "cell_type": "markdown",
   "metadata": {
    "id": "GRNBx2BUXids"
   },
   "source": [
    "**Merge all subject band wise data**"
   ]
  },
  {
   "cell_type": "code",
   "execution_count": 2,
   "metadata": {
    "executionInfo": {
     "elapsed": 2,
     "status": "ok",
     "timestamp": 1644322795099,
     "user": {
      "displayName": "SHYAM MARJIT",
      "photoUrl": "https://lh3.googleusercontent.com/a-/AOh14GjgXWgt6yPRlb1Vc2PDp-7CmKEzAlS0XLO2cxEV=s64",
      "userId": "10874093040693940713"
     },
     "user_tz": -330
    },
    "id": "D0zRBOX0aKJo"
   },
   "outputs": [],
   "source": [
    "subject_names = ['s01', 's02', 's03', 's04', 's05', 's06', 's07', 's08', 's09', 's10', 's11', 's12', \n",
    "                 's13', 's14', 's15', 's16', 's17', 's18', 's19', 's20', 's21',\n",
    "                 's22', 's23', 's24', 's25', 's26', 's27', 's28', 's29', 's30', 's31', 's32']\n",
    "eeg_channels = np.array(['Fp1', 'AF3', 'F3', 'F7', 'FC5', 'FC1', 'C3', 'T7', 'CP5', 'CP1', 'P3', \n",
    "                         'P7', 'PO3', 'O1', 'Oz', 'Pz', 'Fp2', 'AF4', 'Fz', 'F4', 'F8', 'FC6', \n",
    "                         'FC2', 'Cz', 'C4', 'T8', 'CP6', 'CP2', 'P4', 'P8', 'PO4', 'O2'])\n",
    "class_labels = ['valence', 'arousal', 'all']\n",
    "# deap dataset path\n",
    "deap_dataset_path = '/Users/shyammarjit/Desktop/Brain Computer Interface/Deap Dataset/'\n",
    "# put the path location of datfiles folder s.t. subject wise folder should contain datafiles\n",
    "#datafiles_path = '/Users/shyammarjit/Desktop/Brain Computer Interface/Hybrid Sequential Forward channel selection (HSFCS)/Subject Dependent/band_48_fir_None_one/'\n",
    "# testing\n",
    "datafiles_path = '/Users/shyammarjit/Desktop/Brain Computer Interface/Hybrid Sequential Forward channel selection (HSFCS)/Subject Dependent/band_48_fir_None_two/'"
   ]
  },
  {
   "cell_type": "code",
   "execution_count": 3,
   "metadata": {
    "executionInfo": {
     "elapsed": 7,
     "status": "ok",
     "timestamp": 1644322795689,
     "user": {
      "displayName": "SHYAM MARJIT",
      "photoUrl": "https://lh3.googleusercontent.com/a-/AOh14GjgXWgt6yPRlb1Vc2PDp-7CmKEzAlS0XLO2cxEV=s64",
      "userId": "10874093040693940713"
     },
     "user_tz": -330
    },
    "id": "i6L2IXKlX6Gu"
   },
   "outputs": [],
   "source": [
    "# mergeing all band csv files\n",
    "def get_band_data(band_name):\n",
    "    band_paths = []\n",
    "    for subject_name in subject_names:\n",
    "        common_path = '/Users/shyammarjit/Desktop/Brain Computer Interface/Hybrid Sequential Forward channel selection (HSFCS)/Subject Dependent/band_48_fir_None_two/'\n",
    "        if(band_name == ''):\n",
    "            band_path =  common_path + subject_name + '/rawfiles/' + subject_name + '.csv'\n",
    "        else:\n",
    "            band_path =  common_path + subject_name + '/rawfiles/' + subject_name + '_' + band_name + '.csv'\n",
    "        band_paths.append(band_path)\n",
    "    band_df = pd.concat(map(pd.read_csv, band_paths), ignore_index = True)\n",
    "    return band_df"
   ]
  },
  {
   "cell_type": "code",
   "execution_count": 4,
   "metadata": {
    "colab": {
     "base_uri": "https://localhost:8080/"
    },
    "executionInfo": {
     "elapsed": 35218,
     "status": "ok",
     "timestamp": 1644322830903,
     "user": {
      "displayName": "SHYAM MARJIT",
      "photoUrl": "https://lh3.googleusercontent.com/a-/AOh14GjgXWgt6yPRlb1Vc2PDp-7CmKEzAlS0XLO2cxEV=s64",
      "userId": "10874093040693940713"
     },
     "user_tz": -330
    },
    "id": "rEdYCO3M8_I0",
    "outputId": "17fd7943-9387-4073-b5d8-d1bda656a609"
   },
   "outputs": [],
   "source": [
    "data_theta = get_band_data('theta')\n",
    "data_alpha = get_band_data('alpha')\n",
    "data_beta = get_band_data('beta')\n",
    "data_gamma = get_band_data('gamma')\n",
    "all_band = get_band_data('')"
   ]
  },
  {
   "cell_type": "markdown",
   "metadata": {
    "id": "snQ3RpdxvNEU"
   },
   "source": [
    "**Get the label data for all users**"
   ]
  },
  {
   "cell_type": "code",
   "execution_count": 5,
   "metadata": {
    "executionInfo": {
     "elapsed": 14,
     "status": "ok",
     "timestamp": 1644322830906,
     "user": {
      "displayName": "SHYAM MARJIT",
      "photoUrl": "https://lh3.googleusercontent.com/a-/AOh14GjgXWgt6yPRlb1Vc2PDp-7CmKEzAlS0XLO2cxEV=s64",
      "userId": "10874093040693940713"
     },
     "user_tz": -330
    },
    "id": "hk-UbTNtvRO-"
   },
   "outputs": [],
   "source": [
    "# deap dataset path\n",
    "deap_dataset_path = '/Users/shyammarjit/Desktop/Brain Computer Interface/Deap Dataset/'\n",
    "\n",
    "def emotion_label(labels, class_label):\n",
    "    em_labels = []\n",
    "    if(class_label == 'valence'):\n",
    "        for i in range(0, labels.shape[0]):\n",
    "            if (labels[i][0]>5): # high valence\n",
    "                em_labels.append(1)\n",
    "            else: # low valence\n",
    "                em_labels.append(0)\n",
    "        return em_labels\n",
    "    elif(class_label == 'arousal'):\n",
    "        for i in range(0, labels.shape[0]):\n",
    "            if (labels[i][1]>5): # high arousal\n",
    "                em_labels.append(1)\n",
    "            else: # low arousal\n",
    "                em_labels.append(0)\n",
    "        return em_labels\n",
    "    elif(class_label == 'all'):\n",
    "        for i in range(0, labels.shape[0]):\n",
    "            if (labels[i][0]>5): # high valence\n",
    "                if(labels[i][1]>5): # high arousal\n",
    "                    em_labels.append(1) # HVHA\n",
    "                else:\n",
    "                    em_labels.append(0) # HVLA\n",
    "            else: # low valence\n",
    "                if(labels[i][1]>5): # high arousal\n",
    "                    em_labels.append(2) # LVHA\n",
    "                else: # low arousal\n",
    "                    em_labels.append(3) # LVLA\n",
    "        return em_labels\n",
    "\n",
    "def get_label_data(label_name):\n",
    "    label_data, label_2d = [], []\n",
    "    for subject in subject_names:\n",
    "        with open(deap_dataset_path + subject + '.dat', 'rb') as f:\n",
    "            raw_data = pickle.load(f, encoding = 'latin1')\n",
    "        labels = raw_data['labels']\n",
    "        label_2d.append(emotion_label(labels, label_name))\n",
    "    label_data = list(chain.from_iterable(label_2d))\n",
    "    label_data = pd.DataFrame(np.array([label_data]).T, index = None)\n",
    "    return label_data"
   ]
  },
  {
   "cell_type": "code",
   "execution_count": 6,
   "metadata": {
    "executionInfo": {
     "elapsed": 45464,
     "status": "ok",
     "timestamp": 1644322876358,
     "user": {
      "displayName": "SHYAM MARJIT",
      "photoUrl": "https://lh3.googleusercontent.com/a-/AOh14GjgXWgt6yPRlb1Vc2PDp-7CmKEzAlS0XLO2cxEV=s64",
      "userId": "10874093040693940713"
     },
     "user_tz": -330
    },
    "id": "qlOCpNw1yL1J"
   },
   "outputs": [],
   "source": [
    "valence_data = get_label_data('valence')\n",
    "arousal_data = get_label_data('arousal')\n",
    "all_data = get_label_data('all')\n",
    "valence_data, arousal_data, all_data = np.array(valence_data), np.array(arousal_data), np.array(all_data)\n",
    "valence_data, arousal_data, all_data = valence_data.flatten(), arousal_data.flatten(), all_data.flatten()"
   ]
  },
  {
   "cell_type": "markdown",
   "metadata": {
    "id": "_3jkQEH0jZW6"
   },
   "source": [
    "# Fisher Score"
   ]
  },
  {
   "cell_type": "code",
   "execution_count": 7,
   "metadata": {
    "id": "kxJTyBtEeqHy"
   },
   "outputs": [],
   "source": [
    "def fisher_score(X, y):\n",
    "    \"\"\"\n",
    "    This function implements the fisher score feature selection, steps are as follows:\n",
    "    1. Construct the affinity matrix W in fisher score way\n",
    "    2. For the r-th feature, we define fr = X(:,r), D = diag(W*ones), ones = [1,...,1]', L = D - W\n",
    "    3. Let fr_hat = fr - (fr'*D*ones)*ones/(ones'*D*ones)\n",
    "    4. Fisher score for the r-th feature is score = (fr_hat'*D*fr_hat)/(fr_hat'*L*fr_hat)-1\n",
    "    Input\n",
    "    -----\n",
    "    X: {numpy array}, shape (n_samples, n_features)\n",
    "        input data\n",
    "    y: {numpy array}, shape (n_samples,)\n",
    "        input class labels\n",
    "    Output\n",
    "    ------\n",
    "    score: {numpy array}, shape (n_features,)\n",
    "        fisher score for each feature\n",
    "    Reference\n",
    "    ---------\n",
    "    He, Xiaofei et al. \"Laplacian Score for Feature Selection.\" NIPS 2005.\n",
    "    Duda, Richard et al. \"Pattern classification.\" John Wiley & Sons, 2012.\n",
    "    \"\"\"\n",
    "    # Construct weight matrix W in a fisherScore way\n",
    "    kwargs = {\"neighbor_mode\": \"supervised\", \"fisher_score\": True, 'y': y}\n",
    "    W = construct_W(X, **kwargs)\n",
    "\n",
    "    # build the diagonal D matrix from affinity matrix W\n",
    "    D = np.array(W.sum(axis=1))\n",
    "    L = W\n",
    "    tmp = np.dot(np.transpose(D), X)\n",
    "    D = diags(np.transpose(D), [0])\n",
    "    Xt = np.transpose(X)\n",
    "    t1 = np.transpose(np.dot(Xt, D.todense()))\n",
    "    t2 = np.transpose(np.dot(Xt, L.todense()))\n",
    "    # compute the numerator of Lr\n",
    "    D_prime = np.sum(np.multiply(t1, X), 0) - np.multiply(tmp, tmp)/D.sum()\n",
    "    # compute the denominator of Lr\n",
    "    L_prime = np.sum(np.multiply(t2, X), 0) - np.multiply(tmp, tmp)/D.sum()\n",
    "    # avoid the denominator of Lr to be 0\n",
    "    D_prime[D_prime < 1e-12] = 10000\n",
    "    lap_score = 1 - np.array(np.multiply(L_prime, 1/D_prime))[0, :]\n",
    "\n",
    "    # compute fisher score from laplacian score, where fisher_score = 1/lap_score - 1\n",
    "    score = 1.0/lap_score - 1\n",
    "    return np.transpose(score)"
   ]
  },
  {
   "cell_type": "code",
   "execution_count": 8,
   "metadata": {},
   "outputs": [],
   "source": [
    "def get_fisher_score(em_labels):\n",
    "    \n",
    "    X_theta, X_alpha = np.array(data_theta), np.array(data_alpha)\n",
    "    X_beta, X_gamma = np.array(data_beta), np.array(data_gamma)\n",
    "    y = np.array(em_labels)\n",
    "    # apply scalling of the given data\n",
    "    scaler = MinMaxScaler()\n",
    "    scaler.fit(X_theta)\n",
    "    X_theta = scaler.transform(X_theta)\n",
    "    scaler.fit(X_alpha)\n",
    "    X_alpha = scaler.transform(X_alpha)\n",
    "    scaler.fit(X_beta)\n",
    "    X_beta = scaler.transform(X_beta)\n",
    "    scaler.fit(X_gamma)\n",
    "    X_gamma = scaler.transform(X_gamma)\n",
    "    \n",
    "    fscore_theta, fscore_alpha = fisher_score(X_theta, y), fisher_score(X_alpha, y)\n",
    "    fscore_beta, fscore_gamma = fisher_score(X_beta, y), fisher_score(X_gamma, y)\n",
    "    \n",
    "    # Total Avearge F-Score (Theta, Alpha, Beta, Gamma)\n",
    "    final_f_score = (fscore_theta + fscore_alpha + fscore_beta + fscore_gamma)/4\n",
    "    fvalues = pd.Series(final_f_score)\n",
    "    fvalues.index = eeg_channels\n",
    "    fvalues.sort_values(ascending = False)\n",
    "    fvalues.to_csv('fscore_final.csv')\n",
    "    # for visualization run the below code\n",
    "    # fvalues.sort_values(ascending = False).plot.bar(figsize=(10,8))\n",
    "    df = fvalues.sort_values(ascending = False)\n",
    "    da = pd.DataFrame(df)\n",
    "    da.to_csv('channel_rank.csv')\n",
    "    cr = pd.read_csv('channel_rank.csv')\n",
    "    sort_channel_name = list(cr['Unnamed: 0'])\n",
    "    os.remove('channel_rank.csv') # delete the csv file\n",
    "    return sort_channel_name"
   ]
  },
  {
   "cell_type": "markdown",
   "metadata": {
    "id": "GJHHjtp-rOo_"
   },
   "source": [
    "# Classification"
   ]
  },
  {
   "cell_type": "code",
   "execution_count": 9,
   "metadata": {
    "id": "rxoQsqyl-sC-"
   },
   "outputs": [],
   "source": [
    "#Loading the dataset\n",
    "def svmclassifier(channel_name, data):\n",
    "    channel_names = []\n",
    "    for i in range(0, len(channel_name)):\n",
    "        draft = channel_name[i]\n",
    "        channel_names.append(draft + \"_alpha\")\n",
    "        channel_names.append(draft + \"_beta\")\n",
    "        channel_names.append(draft + \"_gamma\")\n",
    "        channel_names.append(draft + \"_theta\")\n",
    "    x, y = data[channel_names], np.array(em_labels)\n",
    "    # Implementing cross validation\n",
    "    kf = KFold(n_splits = k, shuffle = False)\n",
    "    acc_score = []\n",
    "    for train_index , test_index in kf.split(x):\n",
    "        x_train, x_test = x.iloc[train_index,:],x.iloc[test_index,:]\n",
    "        y_train, y_test = y[train_index] , y[test_index]\n",
    "        model = svm.SVC(kernel = 'poly')\n",
    "        model.fit(x_train, y_train)\n",
    "        pred_values = model.predict(x_test)\n",
    "        #pred_values = model.predict(x_test)\n",
    "        acc = accuracy_score(pred_values , y_test)\n",
    "        acc_score.append(acc)\n",
    "    avg_acc_score = sum(acc_score)/k\n",
    "    return avg_acc_score"
   ]
  },
  {
   "cell_type": "code",
   "execution_count": 10,
   "metadata": {
    "id": "5PhZZyG55qSM"
   },
   "outputs": [],
   "source": [
    "def growing_phase(channel_name):\n",
    "    cn = channel_name[0]\n",
    "    acc = svmclassifier([cn], all_band.copy())\n",
    "    cn_list = []\n",
    "    cn_list.append(cn)\n",
    "    sort_cn = []\n",
    "    for i in range(1, len(channel_name)):\n",
    "        cur_cn = channel_name[i]\n",
    "        cn_list.append(cur_cn)\n",
    "        cur_acc = svmclassifier(cn_list, all_band.copy())\n",
    "        if(cur_acc<acc):\n",
    "            cn_list.remove(cur_cn)\n",
    "        else:\n",
    "            acc = cur_acc\n",
    "    print('Accuracy in Growing Phase: ', acc)\n",
    "    print('No of selected channels in Growing Phase: ', len(cn_list))\n",
    "    print('Channels selected in Growing Phase: ', cn_list)\n",
    "    return cn_list"
   ]
  },
  {
   "cell_type": "markdown",
   "metadata": {
    "id": "pD-yBB7AzgaM"
   },
   "source": [
    "# Main Drive Code"
   ]
  },
  {
   "cell_type": "code",
   "execution_count": 12,
   "metadata": {},
   "outputs": [
    {
     "name": "stdout",
     "output_type": "stream",
     "text": [
      "Accuracy in Growing Phase:  0.5640401276789786\n",
      "No of selected channels in Growing Phase:  3\n",
      "Channels selected in Growing Phase:  ['PO4', 'PO3', 'O2']\n"
     ]
    },
    {
     "ename": "KeyboardInterrupt",
     "evalue": "",
     "output_type": "error",
     "traceback": [
      "\u001b[0;31m---------------------------------------------------------------------------\u001b[0m",
      "\u001b[0;31mKeyboardInterrupt\u001b[0m                         Traceback (most recent call last)",
      "\u001b[0;32m<ipython-input-12-34bfea412c9a>\u001b[0m in \u001b[0;36m<module>\u001b[0;34m\u001b[0m\n\u001b[1;32m      5\u001b[0m \u001b[0mem_labels\u001b[0m \u001b[0;34m=\u001b[0m \u001b[0marousal_data\u001b[0m\u001b[0;34m.\u001b[0m\u001b[0mcopy\u001b[0m\u001b[0;34m(\u001b[0m\u001b[0;34m)\u001b[0m\u001b[0;34m\u001b[0m\u001b[0;34m\u001b[0m\u001b[0m\n\u001b[1;32m      6\u001b[0m \u001b[0marousal_channel_name\u001b[0m \u001b[0;34m=\u001b[0m \u001b[0mget_fisher_score\u001b[0m\u001b[0;34m(\u001b[0m\u001b[0mem_labels\u001b[0m\u001b[0;34m)\u001b[0m\u001b[0;34m\u001b[0m\u001b[0;34m\u001b[0m\u001b[0m\n\u001b[0;32m----> 7\u001b[0;31m \u001b[0moptimal_arousal_channel_name\u001b[0m \u001b[0;34m=\u001b[0m \u001b[0mgrowing_phase\u001b[0m\u001b[0;34m(\u001b[0m\u001b[0marousal_channel_name\u001b[0m\u001b[0;34m)\u001b[0m\u001b[0;34m\u001b[0m\u001b[0;34m\u001b[0m\u001b[0m\n\u001b[0m\u001b[1;32m      8\u001b[0m \u001b[0mem_labels\u001b[0m \u001b[0;34m=\u001b[0m \u001b[0mall_data\u001b[0m\u001b[0;34m.\u001b[0m\u001b[0mcopy\u001b[0m\u001b[0;34m(\u001b[0m\u001b[0;34m)\u001b[0m\u001b[0;34m\u001b[0m\u001b[0;34m\u001b[0m\u001b[0m\n\u001b[1;32m      9\u001b[0m \u001b[0mall_channel_name\u001b[0m \u001b[0;34m=\u001b[0m \u001b[0mget_fisher_score\u001b[0m\u001b[0;34m(\u001b[0m\u001b[0mem_labels\u001b[0m\u001b[0;34m)\u001b[0m\u001b[0;34m\u001b[0m\u001b[0;34m\u001b[0m\u001b[0m\n",
      "\u001b[0;32m<ipython-input-10-8ec36d9a89db>\u001b[0m in \u001b[0;36mgrowing_phase\u001b[0;34m(channel_name)\u001b[0m\n\u001b[1;32m      8\u001b[0m         \u001b[0mcur_cn\u001b[0m \u001b[0;34m=\u001b[0m \u001b[0mchannel_name\u001b[0m\u001b[0;34m[\u001b[0m\u001b[0mi\u001b[0m\u001b[0;34m]\u001b[0m\u001b[0;34m\u001b[0m\u001b[0;34m\u001b[0m\u001b[0m\n\u001b[1;32m      9\u001b[0m         \u001b[0mcn_list\u001b[0m\u001b[0;34m.\u001b[0m\u001b[0mappend\u001b[0m\u001b[0;34m(\u001b[0m\u001b[0mcur_cn\u001b[0m\u001b[0;34m)\u001b[0m\u001b[0;34m\u001b[0m\u001b[0;34m\u001b[0m\u001b[0m\n\u001b[0;32m---> 10\u001b[0;31m         \u001b[0mcur_acc\u001b[0m \u001b[0;34m=\u001b[0m \u001b[0msvmclassifier\u001b[0m\u001b[0;34m(\u001b[0m\u001b[0mcn_list\u001b[0m\u001b[0;34m,\u001b[0m \u001b[0mall_band\u001b[0m\u001b[0;34m.\u001b[0m\u001b[0mcopy\u001b[0m\u001b[0;34m(\u001b[0m\u001b[0;34m)\u001b[0m\u001b[0;34m)\u001b[0m\u001b[0;34m\u001b[0m\u001b[0;34m\u001b[0m\u001b[0m\n\u001b[0m\u001b[1;32m     11\u001b[0m         \u001b[0;32mif\u001b[0m\u001b[0;34m(\u001b[0m\u001b[0mcur_acc\u001b[0m\u001b[0;34m<\u001b[0m\u001b[0macc\u001b[0m\u001b[0;34m)\u001b[0m\u001b[0;34m:\u001b[0m\u001b[0;34m\u001b[0m\u001b[0;34m\u001b[0m\u001b[0m\n\u001b[1;32m     12\u001b[0m             \u001b[0mcn_list\u001b[0m\u001b[0;34m.\u001b[0m\u001b[0mremove\u001b[0m\u001b[0;34m(\u001b[0m\u001b[0mcur_cn\u001b[0m\u001b[0;34m)\u001b[0m\u001b[0;34m\u001b[0m\u001b[0;34m\u001b[0m\u001b[0m\n",
      "\u001b[0;32m<ipython-input-9-1caf2eb9fce5>\u001b[0m in \u001b[0;36msvmclassifier\u001b[0;34m(channel_name, data)\u001b[0m\n\u001b[1;32m     16\u001b[0m         \u001b[0my_train\u001b[0m\u001b[0;34m,\u001b[0m \u001b[0my_test\u001b[0m \u001b[0;34m=\u001b[0m \u001b[0my\u001b[0m\u001b[0;34m[\u001b[0m\u001b[0mtrain_index\u001b[0m\u001b[0;34m]\u001b[0m \u001b[0;34m,\u001b[0m \u001b[0my\u001b[0m\u001b[0;34m[\u001b[0m\u001b[0mtest_index\u001b[0m\u001b[0;34m]\u001b[0m\u001b[0;34m\u001b[0m\u001b[0;34m\u001b[0m\u001b[0m\n\u001b[1;32m     17\u001b[0m         \u001b[0mmodel\u001b[0m \u001b[0;34m=\u001b[0m \u001b[0msvm\u001b[0m\u001b[0;34m.\u001b[0m\u001b[0mSVC\u001b[0m\u001b[0;34m(\u001b[0m\u001b[0mkernel\u001b[0m \u001b[0;34m=\u001b[0m \u001b[0;34m'poly'\u001b[0m\u001b[0;34m)\u001b[0m\u001b[0;34m\u001b[0m\u001b[0;34m\u001b[0m\u001b[0m\n\u001b[0;32m---> 18\u001b[0;31m         \u001b[0mmodel\u001b[0m\u001b[0;34m.\u001b[0m\u001b[0mfit\u001b[0m\u001b[0;34m(\u001b[0m\u001b[0mx_train\u001b[0m\u001b[0;34m,\u001b[0m \u001b[0my_train\u001b[0m\u001b[0;34m)\u001b[0m\u001b[0;34m\u001b[0m\u001b[0;34m\u001b[0m\u001b[0m\n\u001b[0m\u001b[1;32m     19\u001b[0m         \u001b[0mpred_values\u001b[0m \u001b[0;34m=\u001b[0m \u001b[0mmodel\u001b[0m\u001b[0;34m.\u001b[0m\u001b[0mpredict\u001b[0m\u001b[0;34m(\u001b[0m\u001b[0mx_test\u001b[0m\u001b[0;34m)\u001b[0m\u001b[0;34m\u001b[0m\u001b[0;34m\u001b[0m\u001b[0m\n\u001b[1;32m     20\u001b[0m         \u001b[0;31m#pred_values = model.predict(x_test)\u001b[0m\u001b[0;34m\u001b[0m\u001b[0;34m\u001b[0m\u001b[0;34m\u001b[0m\u001b[0m\n",
      "\u001b[0;32m/Applications/anaconda3/lib/python3.8/site-packages/sklearn/svm/_base.py\u001b[0m in \u001b[0;36mfit\u001b[0;34m(self, X, y, sample_weight)\u001b[0m\n\u001b[1;32m    224\u001b[0m \u001b[0;34m\u001b[0m\u001b[0m\n\u001b[1;32m    225\u001b[0m         \u001b[0mseed\u001b[0m \u001b[0;34m=\u001b[0m \u001b[0mrnd\u001b[0m\u001b[0;34m.\u001b[0m\u001b[0mrandint\u001b[0m\u001b[0;34m(\u001b[0m\u001b[0mnp\u001b[0m\u001b[0;34m.\u001b[0m\u001b[0miinfo\u001b[0m\u001b[0;34m(\u001b[0m\u001b[0;34m'i'\u001b[0m\u001b[0;34m)\u001b[0m\u001b[0;34m.\u001b[0m\u001b[0mmax\u001b[0m\u001b[0;34m)\u001b[0m\u001b[0;34m\u001b[0m\u001b[0;34m\u001b[0m\u001b[0m\n\u001b[0;32m--> 226\u001b[0;31m         \u001b[0mfit\u001b[0m\u001b[0;34m(\u001b[0m\u001b[0mX\u001b[0m\u001b[0;34m,\u001b[0m \u001b[0my\u001b[0m\u001b[0;34m,\u001b[0m \u001b[0msample_weight\u001b[0m\u001b[0;34m,\u001b[0m \u001b[0msolver_type\u001b[0m\u001b[0;34m,\u001b[0m \u001b[0mkernel\u001b[0m\u001b[0;34m,\u001b[0m \u001b[0mrandom_seed\u001b[0m\u001b[0;34m=\u001b[0m\u001b[0mseed\u001b[0m\u001b[0;34m)\u001b[0m\u001b[0;34m\u001b[0m\u001b[0;34m\u001b[0m\u001b[0m\n\u001b[0m\u001b[1;32m    227\u001b[0m         \u001b[0;31m# see comment on the other call to np.iinfo in this file\u001b[0m\u001b[0;34m\u001b[0m\u001b[0;34m\u001b[0m\u001b[0;34m\u001b[0m\u001b[0m\n\u001b[1;32m    228\u001b[0m \u001b[0;34m\u001b[0m\u001b[0m\n",
      "\u001b[0;32m/Applications/anaconda3/lib/python3.8/site-packages/sklearn/svm/_base.py\u001b[0m in \u001b[0;36m_dense_fit\u001b[0;34m(self, X, y, sample_weight, solver_type, kernel, random_seed)\u001b[0m\n\u001b[1;32m    275\u001b[0m         \u001b[0mself\u001b[0m\u001b[0;34m.\u001b[0m\u001b[0msupport_\u001b[0m\u001b[0;34m,\u001b[0m \u001b[0mself\u001b[0m\u001b[0;34m.\u001b[0m\u001b[0msupport_vectors_\u001b[0m\u001b[0;34m,\u001b[0m \u001b[0mself\u001b[0m\u001b[0;34m.\u001b[0m\u001b[0m_n_support\u001b[0m\u001b[0;34m,\u001b[0m\u001b[0;31m \u001b[0m\u001b[0;31m\\\u001b[0m\u001b[0;34m\u001b[0m\u001b[0;34m\u001b[0m\u001b[0m\n\u001b[1;32m    276\u001b[0m             \u001b[0mself\u001b[0m\u001b[0;34m.\u001b[0m\u001b[0mdual_coef_\u001b[0m\u001b[0;34m,\u001b[0m \u001b[0mself\u001b[0m\u001b[0;34m.\u001b[0m\u001b[0mintercept_\u001b[0m\u001b[0;34m,\u001b[0m \u001b[0mself\u001b[0m\u001b[0;34m.\u001b[0m\u001b[0m_probA\u001b[0m\u001b[0;34m,\u001b[0m\u001b[0;31m \u001b[0m\u001b[0;31m\\\u001b[0m\u001b[0;34m\u001b[0m\u001b[0;34m\u001b[0m\u001b[0m\n\u001b[0;32m--> 277\u001b[0;31m             self._probB, self.fit_status_ = libsvm.fit(\n\u001b[0m\u001b[1;32m    278\u001b[0m                 \u001b[0mX\u001b[0m\u001b[0;34m,\u001b[0m \u001b[0my\u001b[0m\u001b[0;34m,\u001b[0m\u001b[0;34m\u001b[0m\u001b[0;34m\u001b[0m\u001b[0m\n\u001b[1;32m    279\u001b[0m                 \u001b[0msvm_type\u001b[0m\u001b[0;34m=\u001b[0m\u001b[0msolver_type\u001b[0m\u001b[0;34m,\u001b[0m \u001b[0msample_weight\u001b[0m\u001b[0;34m=\u001b[0m\u001b[0msample_weight\u001b[0m\u001b[0;34m,\u001b[0m\u001b[0;34m\u001b[0m\u001b[0;34m\u001b[0m\u001b[0m\n",
      "\u001b[0;31mKeyboardInterrupt\u001b[0m: "
     ]
    }
   ],
   "source": [
    "k = 15 # testing\n",
    "em_labels = valence_data.copy()\n",
    "valence_channel_name = get_fisher_score(em_labels)\n",
    "optimal_valence_channel_name = growing_phase(valence_channel_name)\n",
    "em_labels = arousal_data.copy()\n",
    "arousal_channel_name = get_fisher_score(em_labels)\n",
    "optimal_arousal_channel_name = growing_phase(arousal_channel_name)\n",
    "em_labels = all_data.copy()\n",
    "all_channel_name = get_fisher_score(em_labels)\n",
    "optimal_all_channel_name = growing_phase(all_channel_name)"
   ]
  },
  {
   "cell_type": "code",
   "execution_count": null,
   "metadata": {},
   "outputs": [],
   "source": []
  }
 ],
 "metadata": {
  "colab": {
   "collapsed_sections": [],
   "name": "Step:2-- Subject Independent channel selection BCI",
   "provenance": [
    {
     "file_id": "1v2nrgaG1rHKKjyqEdTTBdr7mQtwKGlR1",
     "timestamp": 1640765724126
    },
    {
     "file_id": "10F39e4jCcK7rgtf-QCa4RADbzAhERecT",
     "timestamp": 1637693415853
    },
    {
     "file_id": "1WnPcs4NNJw4G-Y5noJs_bYmCH-8NUS99",
     "timestamp": 1637691539598
    },
    {
     "file_id": "1_aNd9W_ox0bPqI3ULdUB0VDEOOAvN__A",
     "timestamp": 1637169672125
    }
   ]
  },
  "kernelspec": {
   "display_name": "Python 3",
   "language": "python",
   "name": "python3"
  },
  "language_info": {
   "codemirror_mode": {
    "name": "ipython",
    "version": 3
   },
   "file_extension": ".py",
   "mimetype": "text/x-python",
   "name": "python",
   "nbconvert_exporter": "python",
   "pygments_lexer": "ipython3",
   "version": "3.8.8"
  }
 },
 "nbformat": 4,
 "nbformat_minor": 1
}
